{
 "cells": [
  {
   "cell_type": "code",
   "execution_count": 56,
   "metadata": {},
   "outputs": [],
   "source": [
    "# Importing libraries and packages\n",
    "import numpy as np\n",
    "from scipy.stats import multivariate_normal\n",
    "import matplotlib.pyplot as plt\n",
    "from sklearn.decomposition import PCA\n",
    "from sklearn.discriminant_analysis import LinearDiscriminantAnalysis as LDA\n",
    "from scipy.io import loadmat\n",
    "from sklearn.mixture import GaussianMixture\n",
    "\n",
    "# Data path\n",
    "data = \"../Data/\""
   ]
  },
  {
   "cell_type": "markdown",
   "metadata": {},
   "source": [
    "# Exercise 5: Clustering\n",
    "This assignment is based on the previously generated 2-dimensional data of the three classes (5, 6 and 8) from the MNIST database of handwritten digits. \n",
    "\n",
    "First, mix the 2-dimensional data (training data only) by removing the labels and then use one Gaussian mixture model to model them. \n",
    "\n",
    "Secondly, compare the Gaussian mixture model with the Gaussian models trained in the previous assignment, in terms of mean and variance values as well as through visualisation."
   ]
  },
  {
   "cell_type": "markdown",
   "metadata": {},
   "source": [
    "## Loading the data and mixing\n",
    "First we load the exercise data set, combine the individual training sets into one and shuffle the data to ensure a random shuffle (here with a seed to ensure reproducability). "
   ]
  },
  {
   "cell_type": "code",
   "execution_count": 57,
   "metadata": {},
   "outputs": [
    {
     "name": "stdout",
     "output_type": "stream",
     "text": [
      "train5: [[-1.50392803  0.07382428]\n",
      " [-0.47966968  2.54744033]\n",
      " [-1.36584092  2.71526073]\n",
      " ...\n",
      " [-0.05322445  1.88652704]\n",
      " [-0.2156543   2.21910803]\n",
      " [-2.77636742 -0.15215605]]\n",
      "train6: [[ 0.88225997  0.85788401]\n",
      " [ 3.04834863  1.21051454]\n",
      " [ 1.8685812   1.27250168]\n",
      " ...\n",
      " [ 1.87461518  3.31305368]\n",
      " [ 1.84291125  2.4354789 ]\n",
      " [-3.00595191  1.96897302]]\n",
      "train8: [[-3.00595191  1.96897302]\n",
      " [-2.939449    1.92534439]\n",
      " [-3.15082944  0.67295274]\n",
      " ...\n",
      " [-1.85638874  1.17240379]\n",
      " [-2.71620439  0.14798899]\n",
      " [-1.40171682  2.0990662 ]]\n",
      "trainset: [[-0.70687749 -0.65952951]\n",
      " [ 1.73306832  0.68856751]\n",
      " [ 0.89717341 -4.88350419]\n",
      " ...\n",
      " [ 4.61187964  0.42663665]\n",
      " [ 1.83226305  3.1299974 ]\n",
      " [-0.88510255 -4.38931241]]\n"
     ]
    }
   ],
   "source": [
    "# Load data and mixing it\n",
    "data_path = \"2D568class.mat\"\n",
    "data = loadmat(data+data_path)\n",
    "train5 = data[\"trn5_2dim\"]/255\n",
    "train6 = data[\"trn6_2dim\"]/255\n",
    "train8 = data[\"trn8_2dim\"]/255\n",
    "\n",
    "trainset = np.concatenate([train5, train6, train8])\n",
    "np.random.seed(0)\n",
    "np.random.shuffle(trainset)\n",
    "print(f\"train5: {train5}\")\n",
    "print(f\"train6: {train6}\")\n",
    "print(f\"train8: {train8}\")\n",
    "print(f\"trainset: {trainset}\")"
   ]
  },
  {
   "cell_type": "markdown",
   "metadata": {},
   "source": [
    "## Creating a Gaussian Mixture model\n",
    "First create a Gaussian Mixture Model of the data using sklearn"
   ]
  },
  {
   "cell_type": "code",
   "execution_count": 58,
   "metadata": {},
   "outputs": [
    {
     "data": {
      "text/html": [
       "<style>#sk-container-id-3 {color: black;}#sk-container-id-3 pre{padding: 0;}#sk-container-id-3 div.sk-toggleable {background-color: white;}#sk-container-id-3 label.sk-toggleable__label {cursor: pointer;display: block;width: 100%;margin-bottom: 0;padding: 0.3em;box-sizing: border-box;text-align: center;}#sk-container-id-3 label.sk-toggleable__label-arrow:before {content: \"▸\";float: left;margin-right: 0.25em;color: #696969;}#sk-container-id-3 label.sk-toggleable__label-arrow:hover:before {color: black;}#sk-container-id-3 div.sk-estimator:hover label.sk-toggleable__label-arrow:before {color: black;}#sk-container-id-3 div.sk-toggleable__content {max-height: 0;max-width: 0;overflow: hidden;text-align: left;background-color: #f0f8ff;}#sk-container-id-3 div.sk-toggleable__content pre {margin: 0.2em;color: black;border-radius: 0.25em;background-color: #f0f8ff;}#sk-container-id-3 input.sk-toggleable__control:checked~div.sk-toggleable__content {max-height: 200px;max-width: 100%;overflow: auto;}#sk-container-id-3 input.sk-toggleable__control:checked~label.sk-toggleable__label-arrow:before {content: \"▾\";}#sk-container-id-3 div.sk-estimator input.sk-toggleable__control:checked~label.sk-toggleable__label {background-color: #d4ebff;}#sk-container-id-3 div.sk-label input.sk-toggleable__control:checked~label.sk-toggleable__label {background-color: #d4ebff;}#sk-container-id-3 input.sk-hidden--visually {border: 0;clip: rect(1px 1px 1px 1px);clip: rect(1px, 1px, 1px, 1px);height: 1px;margin: -1px;overflow: hidden;padding: 0;position: absolute;width: 1px;}#sk-container-id-3 div.sk-estimator {font-family: monospace;background-color: #f0f8ff;border: 1px dotted black;border-radius: 0.25em;box-sizing: border-box;margin-bottom: 0.5em;}#sk-container-id-3 div.sk-estimator:hover {background-color: #d4ebff;}#sk-container-id-3 div.sk-parallel-item::after {content: \"\";width: 100%;border-bottom: 1px solid gray;flex-grow: 1;}#sk-container-id-3 div.sk-label:hover label.sk-toggleable__label {background-color: #d4ebff;}#sk-container-id-3 div.sk-serial::before {content: \"\";position: absolute;border-left: 1px solid gray;box-sizing: border-box;top: 0;bottom: 0;left: 50%;z-index: 0;}#sk-container-id-3 div.sk-serial {display: flex;flex-direction: column;align-items: center;background-color: white;padding-right: 0.2em;padding-left: 0.2em;position: relative;}#sk-container-id-3 div.sk-item {position: relative;z-index: 1;}#sk-container-id-3 div.sk-parallel {display: flex;align-items: stretch;justify-content: center;background-color: white;position: relative;}#sk-container-id-3 div.sk-item::before, #sk-container-id-3 div.sk-parallel-item::before {content: \"\";position: absolute;border-left: 1px solid gray;box-sizing: border-box;top: 0;bottom: 0;left: 50%;z-index: -1;}#sk-container-id-3 div.sk-parallel-item {display: flex;flex-direction: column;z-index: 1;position: relative;background-color: white;}#sk-container-id-3 div.sk-parallel-item:first-child::after {align-self: flex-end;width: 50%;}#sk-container-id-3 div.sk-parallel-item:last-child::after {align-self: flex-start;width: 50%;}#sk-container-id-3 div.sk-parallel-item:only-child::after {width: 0;}#sk-container-id-3 div.sk-dashed-wrapped {border: 1px dashed gray;margin: 0 0.4em 0.5em 0.4em;box-sizing: border-box;padding-bottom: 0.4em;background-color: white;}#sk-container-id-3 div.sk-label label {font-family: monospace;font-weight: bold;display: inline-block;line-height: 1.2em;}#sk-container-id-3 div.sk-label-container {text-align: center;}#sk-container-id-3 div.sk-container {/* jupyter's `normalize.less` sets `[hidden] { display: none; }` but bootstrap.min.css set `[hidden] { display: none !important; }` so we also need the `!important` here to be able to override the default hidden behavior on the sphinx rendered scikit-learn.org. See: https://github.com/scikit-learn/scikit-learn/issues/21755 */display: inline-block !important;position: relative;}#sk-container-id-3 div.sk-text-repr-fallback {display: none;}</style><div id=\"sk-container-id-3\" class=\"sk-top-container\"><div class=\"sk-text-repr-fallback\"><pre>GaussianMixture(n_components=3)</pre><b>In a Jupyter environment, please rerun this cell to show the HTML representation or trust the notebook. <br />On GitHub, the HTML representation is unable to render, please try loading this page with nbviewer.org.</b></div><div class=\"sk-container\" hidden><div class=\"sk-item\"><div class=\"sk-estimator sk-toggleable\"><input class=\"sk-toggleable__control sk-hidden--visually\" id=\"sk-estimator-id-3\" type=\"checkbox\" checked><label for=\"sk-estimator-id-3\" class=\"sk-toggleable__label sk-toggleable__label-arrow\">GaussianMixture</label><div class=\"sk-toggleable__content\"><pre>GaussianMixture(n_components=3)</pre></div></div></div></div></div>"
      ],
      "text/plain": [
       "GaussianMixture(n_components=3)"
      ]
     },
     "execution_count": 58,
     "metadata": {},
     "output_type": "execute_result"
    }
   ],
   "source": [
    "# Creating a gaussian mixture model\n",
    "n_components = 3\n",
    "gmm = GaussianMixture(n_components)\n",
    "\n",
    "# Fit the GMM to the data\n",
    "gmm.fit(trainset)\n",
    "\n",
    "# Trying stuff?\n",
    "#labels = gmm.predict(trainset)\n",
    "#plt.scatter(trainset[:, 0], trainset[:, 1], c=labels, s=40, cmap='viridis', edgecolors=\"k\")\n",
    "#plt.legend([\"Class 5\", \"Class 6\", \"Class 8\"])\n",
    "#plt.show()"
   ]
  },
  {
   "cell_type": "markdown",
   "metadata": {},
   "source": [
    "## Creating Gaussian models\n",
    "Following the same approach from the previous exercises we can also estimate Gaussian models for each class"
   ]
  },
  {
   "cell_type": "code",
   "execution_count": 59,
   "metadata": {},
   "outputs": [
    {
     "name": "stdout",
     "output_type": "stream",
     "text": [
      "mean5: [-1.09629628 -0.35037072]\n",
      "mean6: [2.60384024 0.86074213]\n",
      "mean8: [-1.61901038 -0.54586145]\n",
      "\n",
      "cov5: \n",
      "[[ 1.79409703 -0.79112534]\n",
      " [-0.79112534  6.29247315]]\n",
      "cov6: \n",
      "[[ 2.74853033 -1.87168656]\n",
      " [-1.87168656  3.09008399]]\n",
      "cov8: \n",
      "[[ 1.51310487 -0.88278306]\n",
      " [-0.88278306  3.43018827]]\n"
     ]
    }
   ],
   "source": [
    "# Computing mean\n",
    "mean5 = np.mean(train5, axis=0)\n",
    "mean6 = np.mean(train6, axis=0)\n",
    "mean8 = np.mean(train8, axis=0)\n",
    "\n",
    "# Computing variance\n",
    "cov5 = np.cov(train5, rowvar=False)\n",
    "cov6 = np.cov(train6, rowvar=False)\n",
    "cov8 = np.cov(train8, rowvar=False)\n",
    "\n",
    "print(f\"mean5: {mean5}\\nmean6: {mean6}\\nmean8: {mean8}\\n\")\n",
    "print(f\"cov5: \\n{cov5}\\ncov6: \\n{cov6}\\ncov8: \\n{cov8}\")\n"
   ]
  },
  {
   "cell_type": "markdown",
   "metadata": {},
   "source": [
    "## Comparing means and covariance matrices.\n",
    "Let's look at the means and covariance matrices.\n",
    "\n",
    "First we extract the means and covariances from the GMM."
   ]
  },
  {
   "cell_type": "code",
   "execution_count": 60,
   "metadata": {},
   "outputs": [
    {
     "name": "stdout",
     "output_type": "stream",
     "text": [
      "mean1_gmm: [-1.00261972 -2.06286597]\n",
      "mean2_gmm: [3.10749821 0.52284066]\n",
      "mean3_gmm: [-1.43832858  1.61367239]\n",
      "\n",
      "cov1_gmm: \n",
      "[[ 1.63584885 -0.55844505]\n",
      " [-0.55844505  2.2099024 ]]\n",
      "cov2_gmm: \n",
      "[[ 1.77099366 -1.39504464]\n",
      " [-1.39504464  2.82063455]]\n",
      "cov3_gmm: \n",
      "[[1.98073111 0.66161611]\n",
      " [0.66161611 1.36957752]]\n"
     ]
    }
   ],
   "source": [
    "# Extract means and covariance from each component\n",
    "means = gmm.means_\n",
    "covs = gmm.covariances_\n",
    "\n",
    "mean1_gmm = means[0] # Mean for component 1\n",
    "mean2_gmm = means[1] # Mean for component 2\n",
    "mean3_gmm = means[2] # Mean for component 3\n",
    "\n",
    "cov1_gmm = covs[0] # Cov for component 1\n",
    "cov2_gmm = covs[1] # Cov for component 2\n",
    "cov3_gmm = covs[2] # Cov for component 3\n",
    "\n",
    "print(f\"mean1_gmm: {mean1_gmm}\\nmean2_gmm: {mean2_gmm}\\nmean3_gmm: {mean3_gmm}\\n\")\n",
    "print(f\"cov1_gmm: \\n{cov1_gmm}\\ncov2_gmm: \\n{cov2_gmm}\\ncov3_gmm: \\n{cov3_gmm}\")"
   ]
  },
  {
   "cell_type": "markdown",
   "metadata": {},
   "source": [
    "Now we can compare the GMM means and covariances to the Gaussin models estimated for each class individually."
   ]
  },
  {
   "cell_type": "markdown",
   "metadata": {},
   "source": [
    "### Means and Covariances"
   ]
  },
  {
   "cell_type": "code",
   "execution_count": 61,
   "metadata": {},
   "outputs": [
    {
     "name": "stdout",
     "output_type": "stream",
     "text": [
      "mean5: [-1.09629628 -0.35037072]\n",
      "mean6: [2.60384024 0.86074213]\n",
      "mean8: [-1.61901038 -0.54586145]\n",
      "mean1_gmm: [-1.00261972 -2.06286597]\n",
      "mean2_gmm: [3.10749821 0.52284066]\n",
      "mean3_gmm: [-1.43832858  1.61367239]\n"
     ]
    },
    {
     "data": {
      "text/plain": [
       "Text(0.5, 1.0, 'Cov. GMM kernel 3')"
      ]
     },
     "execution_count": 61,
     "metadata": {},
     "output_type": "execute_result"
    },
    {
     "data": {
      "image/png": "[encoded data removed]",
      "text/plain": [
       "<Figure size 1500x1000 with 6 Axes>"
      ]
     },
     "metadata": {},
     "output_type": "display_data"
    }
   ],
   "source": [
    "for name, mean in {\"mean5\": mean5, \"mean6\": mean6, \"mean8\": mean8, \n",
    "                    \"mean1_gmm\": mean1_gmm, \"mean2_gmm\": mean2_gmm, \"mean3_gmm\": mean3_gmm}.items():\n",
    "     print(f\"{name}: {np.array2string(mean)}\")\n",
    "\n",
    "fig, axs = plt.subplots(2, 3, figsize=(15, 10))\n",
    "axs[0, 0].matshow(cov5)\n",
    "for (i, j), z in np.ndenumerate(cov5):\n",
    "    axs[0, 0].text(j, i, f'{z:0.1f}', ha='center', va='center')\n",
    "axs[0, 0].set_title(\"Cov. Class: 5\")\n",
    "axs[1, 0].matshow(cov1_gmm)\n",
    "for (i, j), z in np.ndenumerate(cov1_gmm):\n",
    "    axs[1, 0].text(j, i, f'{z:0.1f}', ha='center', va='center')\n",
    "axs[1, 0].set_title(\"Cov. GMM kernel 1\")\n",
    "axs[0, 1].matshow(cov6)\n",
    "for (i, j), z in np.ndenumerate(cov6):\n",
    "    axs[0, 1].text(j, i, f'{z:0.1f}', ha='center', va='center')\n",
    "axs[0, 1].set_title(\"Cov. Class: 6\")\n",
    "axs[1, 1].matshow(cov2_gmm)\n",
    "for (i, j), z in np.ndenumerate(cov2_gmm):\n",
    "    axs[1, 1].text(j, i, f'{z:0.1f}', ha='center', va='center')\n",
    "axs[1, 1].set_title(\"Cov. GMM kernel 2\")\n",
    "axs[0, 2].matshow(cov8)\n",
    "for (i, j), z in np.ndenumerate(cov8):\n",
    "    axs[0, 2].text(j, i, f'{z:0.1f}', ha='center', va='center')\n",
    "axs[0, 2].set_title(\"Cov. Class: 8\")\n",
    "c = axs[1, 2].matshow(cov1_gmm)\n",
    "for (i, j), z in np.ndenumerate(cov3_gmm):\n",
    "    axs[1, 2].text(j, i, f'{z:0.1f}', ha='center', va='center')\n",
    "axs[1, 2].set_title(\"Cov. GMM kernel 3\")"
   ]
  },
  {
   "cell_type": "markdown",
   "metadata": {},
   "source": [
    "What do we see when comparing means and covariances?"
   ]
  },
  {
   "cell_type": "markdown",
   "metadata": {},
   "source": [
    "## Visualizing the models in contourplots.\n",
    "Now we would like to visualize our models to compare them."
   ]
  },
  {
   "cell_type": "markdown",
   "metadata": {},
   "source": [
    "We first generate some points to be able to sample from the models."
   ]
  },
  {
   "cell_type": "code",
   "execution_count": 62,
   "metadata": {},
   "outputs": [],
   "source": [
    "#Create points to do a contour a plot\n"
   ]
  },
  {
   "cell_type": "markdown",
   "metadata": {},
   "source": [
    "We can also visualize the separate Gaussian models from the GMM by creating Gassians from the classwise means and covariances of the GMM model."
   ]
  },
  {
   "cell_type": "code",
   "execution_count": null,
   "metadata": {},
   "outputs": [],
   "source": []
  },
  {
   "cell_type": "markdown",
   "metadata": {},
   "source": [
    "Now we sample from the models using the generated points."
   ]
  },
  {
   "cell_type": "code",
   "execution_count": null,
   "metadata": {},
   "outputs": [],
   "source": []
  },
  {
   "cell_type": "markdown",
   "metadata": {},
   "source": [
    "The model samples can then be visualized in a contour plot."
   ]
  },
  {
   "cell_type": "code",
   "execution_count": 63,
   "metadata": {},
   "outputs": [],
   "source": [
    "#Plot contours for the GMM, seperated GMM and individual estimated densities\n"
   ]
  }
 ],
 "metadata": {
  "kernelspec": {
   "display_name": ".venv",
   "language": "python",
   "name": "python3"
  },
  "language_info": {
   "codemirror_mode": {
    "name": "ipython",
    "version": 3
   },
   "file_extension": ".py",
   "mimetype": "text/x-python",
   "name": "python",
   "nbconvert_exporter": "python",
   "pygments_lexer": "ipython3",
   "version": "3.11.2"
  },
  "orig_nbformat": 4
 },
 "nbformat": 4,
 "nbformat_minor": 2
}
