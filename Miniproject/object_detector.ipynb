{
 "cells": [
  {
   "cell_type": "code",
   "execution_count": 1,
   "metadata": {},
   "outputs": [],
   "source": [
    "from torch.utils.data import DataLoader\n",
    "from src.dataset import FrameDataset, custom_collate\n",
    "from sklearn.preprocessing import LabelEncoder\n",
    "from torchvision.models.detection import fasterrcnn_resnet50_fpn\n",
    "import torch\n",
    "from src.averager import Averager\n"
   ]
  },
  {
   "cell_type": "code",
   "execution_count": 2,
   "metadata": {},
   "outputs": [
    {
     "data": {
      "text/plain": [
       "array(['apadding', 'bicycle', 'human', 'motorcycle', 'vehicle'],\n",
       "      dtype='<U10')"
      ]
     },
     "execution_count": 2,
     "metadata": {},
     "output_type": "execute_result"
    }
   ],
   "source": [
    "le = LabelEncoder()\n",
    "le.fit(['apadding', 'bicycle','human', 'motorcycle', 'vehicle'])\n",
    "le.classes_\n"
   ]
  },
  {
   "cell_type": "code",
   "execution_count": 3,
   "metadata": {},
   "outputs": [],
   "source": [
    "training_data = FrameDataset(root = 'data', label_encoder = le)\n",
    "train_dataloader = DataLoader(training_data, batch_size=1, shuffle=True, collate_fn=custom_collate)\n",
    "train_features, targets = next(iter(train_dataloader))"
   ]
  },
  {
   "cell_type": "code",
   "execution_count": 4,
   "metadata": {},
   "outputs": [],
   "source": [
    "# load a model; pre-trained on COCO\n",
    "model = fasterrcnn_resnet50_fpn(num_classes=5)"
   ]
  },
  {
   "cell_type": "code",
   "execution_count": 5,
   "metadata": {},
   "outputs": [],
   "source": [
    "num_classes = 5  # 4 classes + background/padding\n",
    "device = torch.device('cuda')\n",
    "\n",
    "# get number of input features for the classifier\n",
    "in_features = model.roi_heads.box_predictor.cls_score.in_features\n",
    "\n",
    "# # replace the pre-trained head with a new one\n",
    "# model.roi_heads.box_predictor = FastRCNNPredictor(in_features, num_classes)\n",
    "\n",
    "# # Load the trained weights\n",
    "# model.load_state_dict(torch.load(WEIGHTS_FILE))  ##Load pre trained weights\n",
    "# #model.eval()\n",
    "\n",
    "# x = model.to(device)"
   ]
  },
  {
   "cell_type": "code",
   "execution_count": 6,
   "metadata": {},
   "outputs": [
    {
     "name": "stdout",
     "output_type": "stream",
     "text": [
      "Iteration #50 loss: nan\n"
     ]
    },
    {
     "ename": "KeyboardInterrupt",
     "evalue": "",
     "output_type": "error",
     "traceback": [
      "\u001b[1;31m---------------------------------------------------------------------------\u001b[0m",
      "\u001b[1;31mKeyboardInterrupt\u001b[0m                         Traceback (most recent call last)",
      "\u001b[1;32mc:\\Users\\vismi\\Documents\\University\\ComTek-7-AVS\\Miniproject\\object_detector.ipynb Cell 6\u001b[0m line \u001b[0;36m2\n\u001b[0;32m     <a href='vscode-notebook-cell:/c%3A/Users/vismi/Documents/University/ComTek-7-AVS/Miniproject/object_detector.ipynb#W5sZmlsZQ%3D%3D?line=17'>18</a>\u001b[0m frames \u001b[39m=\u001b[39m [frame\u001b[39m.\u001b[39mto(device) \u001b[39mfor\u001b[39;00m frame \u001b[39min\u001b[39;00m frames]\n\u001b[0;32m     <a href='vscode-notebook-cell:/c%3A/Users/vismi/Documents/University/ComTek-7-AVS/Miniproject/object_detector.ipynb#W5sZmlsZQ%3D%3D?line=18'>19</a>\u001b[0m targets \u001b[39m=\u001b[39m [{k: v\u001b[39m.\u001b[39mto(device) \u001b[39mfor\u001b[39;00m k, v \u001b[39min\u001b[39;00m t\u001b[39m.\u001b[39mitems()} \u001b[39mfor\u001b[39;00m t \u001b[39min\u001b[39;00m targets]\n\u001b[1;32m---> <a href='vscode-notebook-cell:/c%3A/Users/vismi/Documents/University/ComTek-7-AVS/Miniproject/object_detector.ipynb#W5sZmlsZQ%3D%3D?line=20'>21</a>\u001b[0m loss_dict \u001b[39m=\u001b[39m model(frames, targets)   \u001b[39m##Return the loss\u001b[39;00m\n\u001b[0;32m     <a href='vscode-notebook-cell:/c%3A/Users/vismi/Documents/University/ComTek-7-AVS/Miniproject/object_detector.ipynb#W5sZmlsZQ%3D%3D?line=22'>23</a>\u001b[0m losses \u001b[39m=\u001b[39m \u001b[39msum\u001b[39m(loss \u001b[39mfor\u001b[39;00m loss \u001b[39min\u001b[39;00m loss_dict\u001b[39m.\u001b[39mvalues())\n\u001b[0;32m     <a href='vscode-notebook-cell:/c%3A/Users/vismi/Documents/University/ComTek-7-AVS/Miniproject/object_detector.ipynb#W5sZmlsZQ%3D%3D?line=23'>24</a>\u001b[0m loss_value \u001b[39m=\u001b[39m losses\u001b[39m.\u001b[39mitem()\n",
      "File \u001b[1;32mc:\\Users\\vismi\\Documents\\University\\ComTek-7-AVS\\.venv\\Lib\\site-packages\\torch\\nn\\modules\\module.py:1518\u001b[0m, in \u001b[0;36mModule._wrapped_call_impl\u001b[1;34m(self, *args, **kwargs)\u001b[0m\n\u001b[0;32m   1516\u001b[0m     \u001b[39mreturn\u001b[39;00m \u001b[39mself\u001b[39m\u001b[39m.\u001b[39m_compiled_call_impl(\u001b[39m*\u001b[39margs, \u001b[39m*\u001b[39m\u001b[39m*\u001b[39mkwargs)  \u001b[39m# type: ignore[misc]\u001b[39;00m\n\u001b[0;32m   1517\u001b[0m \u001b[39melse\u001b[39;00m:\n\u001b[1;32m-> 1518\u001b[0m     \u001b[39mreturn\u001b[39;00m \u001b[39mself\u001b[39;49m\u001b[39m.\u001b[39;49m_call_impl(\u001b[39m*\u001b[39;49margs, \u001b[39m*\u001b[39;49m\u001b[39m*\u001b[39;49mkwargs)\n",
      "File \u001b[1;32mc:\\Users\\vismi\\Documents\\University\\ComTek-7-AVS\\.venv\\Lib\\site-packages\\torch\\nn\\modules\\module.py:1527\u001b[0m, in \u001b[0;36mModule._call_impl\u001b[1;34m(self, *args, **kwargs)\u001b[0m\n\u001b[0;32m   1522\u001b[0m \u001b[39m# If we don't have any hooks, we want to skip the rest of the logic in\u001b[39;00m\n\u001b[0;32m   1523\u001b[0m \u001b[39m# this function, and just call forward.\u001b[39;00m\n\u001b[0;32m   1524\u001b[0m \u001b[39mif\u001b[39;00m \u001b[39mnot\u001b[39;00m (\u001b[39mself\u001b[39m\u001b[39m.\u001b[39m_backward_hooks \u001b[39mor\u001b[39;00m \u001b[39mself\u001b[39m\u001b[39m.\u001b[39m_backward_pre_hooks \u001b[39mor\u001b[39;00m \u001b[39mself\u001b[39m\u001b[39m.\u001b[39m_forward_hooks \u001b[39mor\u001b[39;00m \u001b[39mself\u001b[39m\u001b[39m.\u001b[39m_forward_pre_hooks\n\u001b[0;32m   1525\u001b[0m         \u001b[39mor\u001b[39;00m _global_backward_pre_hooks \u001b[39mor\u001b[39;00m _global_backward_hooks\n\u001b[0;32m   1526\u001b[0m         \u001b[39mor\u001b[39;00m _global_forward_hooks \u001b[39mor\u001b[39;00m _global_forward_pre_hooks):\n\u001b[1;32m-> 1527\u001b[0m     \u001b[39mreturn\u001b[39;00m forward_call(\u001b[39m*\u001b[39;49margs, \u001b[39m*\u001b[39;49m\u001b[39m*\u001b[39;49mkwargs)\n\u001b[0;32m   1529\u001b[0m \u001b[39mtry\u001b[39;00m:\n\u001b[0;32m   1530\u001b[0m     result \u001b[39m=\u001b[39m \u001b[39mNone\u001b[39;00m\n",
      "File \u001b[1;32mc:\\Users\\vismi\\Documents\\University\\ComTek-7-AVS\\.venv\\Lib\\site-packages\\torchvision\\models\\detection\\generalized_rcnn.py:104\u001b[0m, in \u001b[0;36mGeneralizedRCNN.forward\u001b[1;34m(self, images, targets)\u001b[0m\n\u001b[0;32m    102\u001b[0m \u001b[39mif\u001b[39;00m \u001b[39misinstance\u001b[39m(features, torch\u001b[39m.\u001b[39mTensor):\n\u001b[0;32m    103\u001b[0m     features \u001b[39m=\u001b[39m OrderedDict([(\u001b[39m\"\u001b[39m\u001b[39m0\u001b[39m\u001b[39m\"\u001b[39m, features)])\n\u001b[1;32m--> 104\u001b[0m proposals, proposal_losses \u001b[39m=\u001b[39m \u001b[39mself\u001b[39;49m\u001b[39m.\u001b[39;49mrpn(images, features, targets)\n\u001b[0;32m    105\u001b[0m detections, detector_losses \u001b[39m=\u001b[39m \u001b[39mself\u001b[39m\u001b[39m.\u001b[39mroi_heads(features, proposals, images\u001b[39m.\u001b[39mimage_sizes, targets)\n\u001b[0;32m    106\u001b[0m detections \u001b[39m=\u001b[39m \u001b[39mself\u001b[39m\u001b[39m.\u001b[39mtransform\u001b[39m.\u001b[39mpostprocess(detections, images\u001b[39m.\u001b[39mimage_sizes, original_image_sizes)  \u001b[39m# type: ignore[operator]\u001b[39;00m\n",
      "File \u001b[1;32mc:\\Users\\vismi\\Documents\\University\\ComTek-7-AVS\\.venv\\Lib\\site-packages\\torch\\nn\\modules\\module.py:1518\u001b[0m, in \u001b[0;36mModule._wrapped_call_impl\u001b[1;34m(self, *args, **kwargs)\u001b[0m\n\u001b[0;32m   1516\u001b[0m     \u001b[39mreturn\u001b[39;00m \u001b[39mself\u001b[39m\u001b[39m.\u001b[39m_compiled_call_impl(\u001b[39m*\u001b[39margs, \u001b[39m*\u001b[39m\u001b[39m*\u001b[39mkwargs)  \u001b[39m# type: ignore[misc]\u001b[39;00m\n\u001b[0;32m   1517\u001b[0m \u001b[39melse\u001b[39;00m:\n\u001b[1;32m-> 1518\u001b[0m     \u001b[39mreturn\u001b[39;00m \u001b[39mself\u001b[39;49m\u001b[39m.\u001b[39;49m_call_impl(\u001b[39m*\u001b[39;49margs, \u001b[39m*\u001b[39;49m\u001b[39m*\u001b[39;49mkwargs)\n",
      "File \u001b[1;32mc:\\Users\\vismi\\Documents\\University\\ComTek-7-AVS\\.venv\\Lib\\site-packages\\torch\\nn\\modules\\module.py:1527\u001b[0m, in \u001b[0;36mModule._call_impl\u001b[1;34m(self, *args, **kwargs)\u001b[0m\n\u001b[0;32m   1522\u001b[0m \u001b[39m# If we don't have any hooks, we want to skip the rest of the logic in\u001b[39;00m\n\u001b[0;32m   1523\u001b[0m \u001b[39m# this function, and just call forward.\u001b[39;00m\n\u001b[0;32m   1524\u001b[0m \u001b[39mif\u001b[39;00m \u001b[39mnot\u001b[39;00m (\u001b[39mself\u001b[39m\u001b[39m.\u001b[39m_backward_hooks \u001b[39mor\u001b[39;00m \u001b[39mself\u001b[39m\u001b[39m.\u001b[39m_backward_pre_hooks \u001b[39mor\u001b[39;00m \u001b[39mself\u001b[39m\u001b[39m.\u001b[39m_forward_hooks \u001b[39mor\u001b[39;00m \u001b[39mself\u001b[39m\u001b[39m.\u001b[39m_forward_pre_hooks\n\u001b[0;32m   1525\u001b[0m         \u001b[39mor\u001b[39;00m _global_backward_pre_hooks \u001b[39mor\u001b[39;00m _global_backward_hooks\n\u001b[0;32m   1526\u001b[0m         \u001b[39mor\u001b[39;00m _global_forward_hooks \u001b[39mor\u001b[39;00m _global_forward_pre_hooks):\n\u001b[1;32m-> 1527\u001b[0m     \u001b[39mreturn\u001b[39;00m forward_call(\u001b[39m*\u001b[39;49margs, \u001b[39m*\u001b[39;49m\u001b[39m*\u001b[39;49mkwargs)\n\u001b[0;32m   1529\u001b[0m \u001b[39mtry\u001b[39;00m:\n\u001b[0;32m   1530\u001b[0m     result \u001b[39m=\u001b[39m \u001b[39mNone\u001b[39;00m\n",
      "File \u001b[1;32mc:\\Users\\vismi\\Documents\\University\\ComTek-7-AVS\\.venv\\Lib\\site-packages\\torchvision\\models\\detection\\rpn.py:378\u001b[0m, in \u001b[0;36mRegionProposalNetwork.forward\u001b[1;34m(self, images, features, targets)\u001b[0m\n\u001b[0;32m    376\u001b[0m \u001b[39mif\u001b[39;00m targets \u001b[39mis\u001b[39;00m \u001b[39mNone\u001b[39;00m:\n\u001b[0;32m    377\u001b[0m     \u001b[39mraise\u001b[39;00m \u001b[39mValueError\u001b[39;00m(\u001b[39m\"\u001b[39m\u001b[39mtargets should not be None\u001b[39m\u001b[39m\"\u001b[39m)\n\u001b[1;32m--> 378\u001b[0m labels, matched_gt_boxes \u001b[39m=\u001b[39m \u001b[39mself\u001b[39;49m\u001b[39m.\u001b[39;49massign_targets_to_anchors(anchors, targets)\n\u001b[0;32m    379\u001b[0m regression_targets \u001b[39m=\u001b[39m \u001b[39mself\u001b[39m\u001b[39m.\u001b[39mbox_coder\u001b[39m.\u001b[39mencode(matched_gt_boxes, anchors)\n\u001b[0;32m    380\u001b[0m loss_objectness, loss_rpn_box_reg \u001b[39m=\u001b[39m \u001b[39mself\u001b[39m\u001b[39m.\u001b[39mcompute_loss(\n\u001b[0;32m    381\u001b[0m     objectness, pred_bbox_deltas, labels, regression_targets\n\u001b[0;32m    382\u001b[0m )\n",
      "File \u001b[1;32mc:\\Users\\vismi\\Documents\\University\\ComTek-7-AVS\\.venv\\Lib\\site-packages\\torchvision\\models\\detection\\rpn.py:208\u001b[0m, in \u001b[0;36mRegionProposalNetwork.assign_targets_to_anchors\u001b[1;34m(self, anchors, targets)\u001b[0m\n\u001b[0;32m    206\u001b[0m \u001b[39melse\u001b[39;00m:\n\u001b[0;32m    207\u001b[0m     match_quality_matrix \u001b[39m=\u001b[39m \u001b[39mself\u001b[39m\u001b[39m.\u001b[39mbox_similarity(gt_boxes, anchors_per_image)\n\u001b[1;32m--> 208\u001b[0m     matched_idxs \u001b[39m=\u001b[39m \u001b[39mself\u001b[39;49m\u001b[39m.\u001b[39;49mproposal_matcher(match_quality_matrix)\n\u001b[0;32m    209\u001b[0m     \u001b[39m# get the targets corresponding GT for each proposal\u001b[39;00m\n\u001b[0;32m    210\u001b[0m     \u001b[39m# NB: need to clamp the indices because we can have a single\u001b[39;00m\n\u001b[0;32m    211\u001b[0m     \u001b[39m# GT in the image, and matched_idxs can be -2, which goes\u001b[39;00m\n\u001b[0;32m    212\u001b[0m     \u001b[39m# out of bounds\u001b[39;00m\n\u001b[0;32m    213\u001b[0m     matched_gt_boxes_per_image \u001b[39m=\u001b[39m gt_boxes[matched_idxs\u001b[39m.\u001b[39mclamp(\u001b[39mmin\u001b[39m\u001b[39m=\u001b[39m\u001b[39m0\u001b[39m)]\n",
      "File \u001b[1;32mc:\\Users\\vismi\\Documents\\University\\ComTek-7-AVS\\.venv\\Lib\\site-packages\\torchvision\\models\\detection\\_utils.py:394\u001b[0m, in \u001b[0;36mMatcher.__call__\u001b[1;34m(self, match_quality_matrix)\u001b[0m\n\u001b[0;32m    392\u001b[0m         torch\u001b[39m.\u001b[39m_assert(\u001b[39mFalse\u001b[39;00m, \u001b[39m\"\u001b[39m\u001b[39mall_matches should not be None\u001b[39m\u001b[39m\"\u001b[39m)\n\u001b[0;32m    393\u001b[0m     \u001b[39melse\u001b[39;00m:\n\u001b[1;32m--> 394\u001b[0m         \u001b[39mself\u001b[39;49m\u001b[39m.\u001b[39;49mset_low_quality_matches_(matches, all_matches, match_quality_matrix)\n\u001b[0;32m    396\u001b[0m \u001b[39mreturn\u001b[39;00m matches\n",
      "File \u001b[1;32mc:\\Users\\vismi\\Documents\\University\\ComTek-7-AVS\\.venv\\Lib\\site-packages\\torchvision\\models\\detection\\_utils.py:409\u001b[0m, in \u001b[0;36mMatcher.set_low_quality_matches_\u001b[1;34m(self, matches, all_matches, match_quality_matrix)\u001b[0m\n\u001b[0;32m    407\u001b[0m highest_quality_foreach_gt, _ \u001b[39m=\u001b[39m match_quality_matrix\u001b[39m.\u001b[39mmax(dim\u001b[39m=\u001b[39m\u001b[39m1\u001b[39m)\n\u001b[0;32m    408\u001b[0m \u001b[39m# Find the highest quality match available, even if it is low, including ties\u001b[39;00m\n\u001b[1;32m--> 409\u001b[0m gt_pred_pairs_of_highest_quality \u001b[39m=\u001b[39m torch\u001b[39m.\u001b[39;49mwhere(match_quality_matrix \u001b[39m==\u001b[39;49m highest_quality_foreach_gt[:, \u001b[39mNone\u001b[39;49;00m])\n\u001b[0;32m    410\u001b[0m \u001b[39m# Example gt_pred_pairs_of_highest_quality:\u001b[39;00m\n\u001b[0;32m    411\u001b[0m \u001b[39m# (tensor([0, 1, 1, 2, 2, 3, 3, 4, 5, 5]),\u001b[39;00m\n\u001b[0;32m    412\u001b[0m \u001b[39m#  tensor([39796, 32055, 32070, 39190, 40255, 40390, 41455, 45470, 45325, 46390]))\u001b[39;00m\n\u001b[0;32m    413\u001b[0m \u001b[39m# Each element in the first tensor is a gt index, and each element in second tensor is a prediction index\u001b[39;00m\n\u001b[0;32m    414\u001b[0m \u001b[39m# Note how gt items 1, 2, 3, and 5 each have two ties\u001b[39;00m\n\u001b[0;32m    416\u001b[0m pred_inds_to_update \u001b[39m=\u001b[39m gt_pred_pairs_of_highest_quality[\u001b[39m1\u001b[39m]\n",
      "\u001b[1;31mKeyboardInterrupt\u001b[0m: "
     ]
    }
   ],
   "source": [
    "model.train()\n",
    "model.to(device)\n",
    "params = [p for p in model.parameters() if p.requires_grad]\n",
    "optimizer = torch.optim.SGD(params, lr=0.01, momentum=0.9, weight_decay=0.00001)\n",
    "# lr_scheduler = torch.optim.lr_scheduler.StepLR(optimizer, step_size=1, gamma=0.5)\n",
    "lr_scheduler = None\n",
    "\n",
    "num_epochs = 5\n",
    "\n",
    "loss_hist = Averager()\n",
    "itr = 1\n",
    "\n",
    "for epoch in range(num_epochs):\n",
    "    loss_hist.reset()\n",
    "    \n",
    "    for frames, targets in train_dataloader:\n",
    "        \n",
    "        frames = [frame.to(device) for frame in frames]\n",
    "        targets = [{k: v.to(device) for k, v in t.items()} for t in targets]\n",
    "\n",
    "        loss_dict = model(frames, targets)   ##Return the loss\n",
    "\n",
    "        losses = sum(loss for loss in loss_dict.values())\n",
    "        loss_value = losses.item()\n",
    "\n",
    "        loss_hist.send(loss_value)  #Average out the loss\n",
    "\n",
    "        optimizer.zero_grad()\n",
    "        losses.backward()\n",
    "        optimizer.step()\n",
    "\n",
    "        if itr % 50 == 0:\n",
    "            print(f\"Iteration #{itr} loss: {loss_value}\")\n",
    "\n",
    "        itr += 1\n",
    "    \n",
    "    # update the learning rate\n",
    "    if lr_scheduler is not None:\n",
    "        lr_scheduler.step()\n",
    "\n",
    "    print(f\"Epoch #{epoch} loss: {loss_hist.value}\")"
   ]
  }
 ],
 "metadata": {
  "kernelspec": {
   "display_name": ".venv",
   "language": "python",
   "name": "python3"
  },
  "language_info": {
   "codemirror_mode": {
    "name": "ipython",
    "version": 3
   },
   "file_extension": ".py",
   "mimetype": "text/x-python",
   "name": "python",
   "nbconvert_exporter": "python",
   "pygments_lexer": "ipython3",
   "version": "3.11.6"
  }
 },
 "nbformat": 4,
 "nbformat_minor": 2
}
