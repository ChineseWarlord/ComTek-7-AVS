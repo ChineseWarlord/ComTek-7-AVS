{
 "cells": [
  {
   "cell_type": "code",
   "execution_count": 1,
   "metadata": {},
   "outputs": [],
   "source": [
    "from torch.utils.data import DataLoader\n",
    "from src.dataset import FrameDataset, custom_collate\n",
    "from sklearn.preprocessing import LabelEncoder\n",
    "from torchvision.models.detection import fasterrcnn_resnet50_fpn\n",
    "import torch\n",
    "from src.averager import Averager\n",
    "import os\n",
    "\n",
    "\n",
    "from src import config\n",
    "hparams = config.hparams"
   ]
  },
  {
   "cell_type": "code",
   "execution_count": 2,
   "metadata": {},
   "outputs": [
    {
     "data": {
      "text/html": [
       "<style>#sk-container-id-1 {color: black;}#sk-container-id-1 pre{padding: 0;}#sk-container-id-1 div.sk-toggleable {background-color: white;}#sk-container-id-1 label.sk-toggleable__label {cursor: pointer;display: block;width: 100%;margin-bottom: 0;padding: 0.3em;box-sizing: border-box;text-align: center;}#sk-container-id-1 label.sk-toggleable__label-arrow:before {content: \"▸\";float: left;margin-right: 0.25em;color: #696969;}#sk-container-id-1 label.sk-toggleable__label-arrow:hover:before {color: black;}#sk-container-id-1 div.sk-estimator:hover label.sk-toggleable__label-arrow:before {color: black;}#sk-container-id-1 div.sk-toggleable__content {max-height: 0;max-width: 0;overflow: hidden;text-align: left;background-color: #f0f8ff;}#sk-container-id-1 div.sk-toggleable__content pre {margin: 0.2em;color: black;border-radius: 0.25em;background-color: #f0f8ff;}#sk-container-id-1 input.sk-toggleable__control:checked~div.sk-toggleable__content {max-height: 200px;max-width: 100%;overflow: auto;}#sk-container-id-1 input.sk-toggleable__control:checked~label.sk-toggleable__label-arrow:before {content: \"▾\";}#sk-container-id-1 div.sk-estimator input.sk-toggleable__control:checked~label.sk-toggleable__label {background-color: #d4ebff;}#sk-container-id-1 div.sk-label input.sk-toggleable__control:checked~label.sk-toggleable__label {background-color: #d4ebff;}#sk-container-id-1 input.sk-hidden--visually {border: 0;clip: rect(1px 1px 1px 1px);clip: rect(1px, 1px, 1px, 1px);height: 1px;margin: -1px;overflow: hidden;padding: 0;position: absolute;width: 1px;}#sk-container-id-1 div.sk-estimator {font-family: monospace;background-color: #f0f8ff;border: 1px dotted black;border-radius: 0.25em;box-sizing: border-box;margin-bottom: 0.5em;}#sk-container-id-1 div.sk-estimator:hover {background-color: #d4ebff;}#sk-container-id-1 div.sk-parallel-item::after {content: \"\";width: 100%;border-bottom: 1px solid gray;flex-grow: 1;}#sk-container-id-1 div.sk-label:hover label.sk-toggleable__label {background-color: #d4ebff;}#sk-container-id-1 div.sk-serial::before {content: \"\";position: absolute;border-left: 1px solid gray;box-sizing: border-box;top: 0;bottom: 0;left: 50%;z-index: 0;}#sk-container-id-1 div.sk-serial {display: flex;flex-direction: column;align-items: center;background-color: white;padding-right: 0.2em;padding-left: 0.2em;position: relative;}#sk-container-id-1 div.sk-item {position: relative;z-index: 1;}#sk-container-id-1 div.sk-parallel {display: flex;align-items: stretch;justify-content: center;background-color: white;position: relative;}#sk-container-id-1 div.sk-item::before, #sk-container-id-1 div.sk-parallel-item::before {content: \"\";position: absolute;border-left: 1px solid gray;box-sizing: border-box;top: 0;bottom: 0;left: 50%;z-index: -1;}#sk-container-id-1 div.sk-parallel-item {display: flex;flex-direction: column;z-index: 1;position: relative;background-color: white;}#sk-container-id-1 div.sk-parallel-item:first-child::after {align-self: flex-end;width: 50%;}#sk-container-id-1 div.sk-parallel-item:last-child::after {align-self: flex-start;width: 50%;}#sk-container-id-1 div.sk-parallel-item:only-child::after {width: 0;}#sk-container-id-1 div.sk-dashed-wrapped {border: 1px dashed gray;margin: 0 0.4em 0.5em 0.4em;box-sizing: border-box;padding-bottom: 0.4em;background-color: white;}#sk-container-id-1 div.sk-label label {font-family: monospace;font-weight: bold;display: inline-block;line-height: 1.2em;}#sk-container-id-1 div.sk-label-container {text-align: center;}#sk-container-id-1 div.sk-container {/* jupyter's `normalize.less` sets `[hidden] { display: none; }` but bootstrap.min.css set `[hidden] { display: none !important; }` so we also need the `!important` here to be able to override the default hidden behavior on the sphinx rendered scikit-learn.org. See: https://github.com/scikit-learn/scikit-learn/issues/21755 */display: inline-block !important;position: relative;}#sk-container-id-1 div.sk-text-repr-fallback {display: none;}</style><div id=\"sk-container-id-1\" class=\"sk-top-container\"><div class=\"sk-text-repr-fallback\"><pre>LabelEncoder()</pre><b>In a Jupyter environment, please rerun this cell to show the HTML representation or trust the notebook. <br />On GitHub, the HTML representation is unable to render, please try loading this page with nbviewer.org.</b></div><div class=\"sk-container\" hidden><div class=\"sk-item\"><div class=\"sk-estimator sk-toggleable\"><input class=\"sk-toggleable__control sk-hidden--visually\" id=\"sk-estimator-id-1\" type=\"checkbox\" checked><label for=\"sk-estimator-id-1\" class=\"sk-toggleable__label sk-toggleable__label-arrow\">LabelEncoder</label><div class=\"sk-toggleable__content\"><pre>LabelEncoder()</pre></div></div></div></div></div>"
      ],
      "text/plain": [
       "LabelEncoder()"
      ]
     },
     "execution_count": 2,
     "metadata": {},
     "output_type": "execute_result"
    }
   ],
   "source": [
    "le = LabelEncoder()\n",
    "le.fit(['apadding', 'bicycle','human', 'motorcycle', 'vehicle'])\n"
   ]
  },
  {
   "cell_type": "code",
   "execution_count": 7,
   "metadata": {},
   "outputs": [],
   "source": [
    "training_data = FrameDataset(root = hparams.train_path, label_encoder = le)\n",
    "train_dataloader = DataLoader(training_data, batch_size=5, shuffle=True, collate_fn=custom_collate)"
   ]
  },
  {
   "cell_type": "code",
   "execution_count": 3,
   "metadata": {},
   "outputs": [],
   "source": [
    "# load a model; pre-trained on COCO\n",
    "model = fasterrcnn_resnet50_fpn(num_classes=hparams.num_classes)"
   ]
  },
  {
   "cell_type": "code",
   "execution_count": 4,
   "metadata": {},
   "outputs": [],
   "source": [
    "device = torch.device(hparams.device)"
   ]
  },
  {
   "cell_type": "code",
   "execution_count": 5,
   "metadata": {},
   "outputs": [],
   "source": [
    "# initialize logging\n",
    "loggers = []\n",
    "log_name = f\"{hparams.experiment_name}-{hparams.num_classes}\"\n",
    "\n",
    "# make sure the output directory exists\n",
    "output_dir = os.path.join(hparams.output_dir,log_name)\n",
    "if not os.path.exists(output_dir):\n",
    "    os.makedirs(output_dir)\n",
    "\n",
    "if 'tensorboard' in hparams.loggers:\n",
    "    from pytorch_lightning.loggers import TensorBoardLogger\n",
    "    loggers.append(TensorBoardLogger(save_dir='tb_logs/', name=log_name, default_hp_metric=False))"
   ]
  },
  {
   "cell_type": "code",
   "execution_count": 8,
   "metadata": {},
   "outputs": [
    {
     "name": "stderr",
     "output_type": "stream",
     "text": [
      "GPU available: True (cuda), used: True\n",
      "TPU available: False, using: 0 TPU cores\n",
      "IPU available: False, using: 0 IPUs\n",
      "HPU available: False, using: 0 HPUs\n"
     ]
    },
    {
     "ename": "TypeError",
     "evalue": "`model` must be a `LightningModule` or `torch._dynamo.OptimizedModule`, got `FasterRCNN`",
     "output_type": "error",
     "traceback": [
      "\u001b[1;31m---------------------------------------------------------------------------\u001b[0m",
      "\u001b[1;31mTypeError\u001b[0m                                 Traceback (most recent call last)",
      "\u001b[1;32mc:\\Users\\vismi\\Documents\\University\\ComTek-7-AVS\\Miniproject\\object_detector.ipynb Cell 7\u001b[0m line \u001b[0;36m7\n\u001b[0;32m      <a href='vscode-notebook-cell:/c%3A/Users/vismi/Documents/University/ComTek-7-AVS/Miniproject/object_detector.ipynb#X11sZmlsZQ%3D%3D?line=0'>1</a>\u001b[0m \u001b[39mfrom\u001b[39;00m \u001b[39mpytorch_lightning\u001b[39;00m \u001b[39mimport\u001b[39;00m Trainer\n\u001b[0;32m      <a href='vscode-notebook-cell:/c%3A/Users/vismi/Documents/University/ComTek-7-AVS/Miniproject/object_detector.ipynb#X11sZmlsZQ%3D%3D?line=1'>2</a>\u001b[0m trainer \u001b[39m=\u001b[39m Trainer(accelerator\u001b[39m=\u001b[39mhparams\u001b[39m.\u001b[39maccelerator,\n\u001b[0;32m      <a href='vscode-notebook-cell:/c%3A/Users/vismi/Documents/University/ComTek-7-AVS/Miniproject/object_detector.ipynb#X11sZmlsZQ%3D%3D?line=2'>3</a>\u001b[0m     max_epochs\u001b[39m=\u001b[39mhparams\u001b[39m.\u001b[39mmax_epochs,\n\u001b[0;32m      <a href='vscode-notebook-cell:/c%3A/Users/vismi/Documents/University/ComTek-7-AVS/Miniproject/object_detector.ipynb#X11sZmlsZQ%3D%3D?line=3'>4</a>\u001b[0m     logger\u001b[39m=\u001b[39mloggers\n\u001b[0;32m      <a href='vscode-notebook-cell:/c%3A/Users/vismi/Documents/University/ComTek-7-AVS/Miniproject/object_detector.ipynb#X11sZmlsZQ%3D%3D?line=4'>5</a>\u001b[0m )\n\u001b[1;32m----> <a href='vscode-notebook-cell:/c%3A/Users/vismi/Documents/University/ComTek-7-AVS/Miniproject/object_detector.ipynb#X11sZmlsZQ%3D%3D?line=6'>7</a>\u001b[0m trainer\u001b[39m.\u001b[39;49mfit(model, train_dataloader)\n",
      "File \u001b[1;32mc:\\Users\\vismi\\Documents\\University\\ComTek-7-AVS\\.venv\\Lib\\site-packages\\pytorch_lightning\\trainer\\trainer.py:539\u001b[0m, in \u001b[0;36mTrainer.fit\u001b[1;34m(self, model, train_dataloaders, val_dataloaders, datamodule, ckpt_path)\u001b[0m\n\u001b[0;32m    505\u001b[0m \u001b[39mdef\u001b[39;00m \u001b[39mfit\u001b[39m(\n\u001b[0;32m    506\u001b[0m     \u001b[39mself\u001b[39m,\n\u001b[0;32m    507\u001b[0m     model: \u001b[39m\"\u001b[39m\u001b[39mpl.LightningModule\u001b[39m\u001b[39m\"\u001b[39m,\n\u001b[1;32m   (...)\u001b[0m\n\u001b[0;32m    511\u001b[0m     ckpt_path: Optional[\u001b[39mstr\u001b[39m] \u001b[39m=\u001b[39m \u001b[39mNone\u001b[39;00m,\n\u001b[0;32m    512\u001b[0m ) \u001b[39m-\u001b[39m\u001b[39m>\u001b[39m \u001b[39mNone\u001b[39;00m:\n\u001b[0;32m    513\u001b[0m \u001b[39m    \u001b[39m\u001b[39mr\u001b[39m\u001b[39m\"\"\"Runs the full optimization routine.\u001b[39;00m\n\u001b[0;32m    514\u001b[0m \n\u001b[0;32m    515\u001b[0m \u001b[39m    Args:\u001b[39;00m\n\u001b[1;32m   (...)\u001b[0m\n\u001b[0;32m    537\u001b[0m \n\u001b[0;32m    538\u001b[0m \u001b[39m    \"\"\"\u001b[39;00m\n\u001b[1;32m--> 539\u001b[0m     model \u001b[39m=\u001b[39m _maybe_unwrap_optimized(model)\n\u001b[0;32m    540\u001b[0m     \u001b[39mself\u001b[39m\u001b[39m.\u001b[39mstrategy\u001b[39m.\u001b[39m_lightning_module \u001b[39m=\u001b[39m model\n\u001b[0;32m    541\u001b[0m     _verify_strategy_supports_compile(model, \u001b[39mself\u001b[39m\u001b[39m.\u001b[39mstrategy)\n",
      "File \u001b[1;32mc:\\Users\\vismi\\Documents\\University\\ComTek-7-AVS\\.venv\\Lib\\site-packages\\pytorch_lightning\\utilities\\compile.py:131\u001b[0m, in \u001b[0;36m_maybe_unwrap_optimized\u001b[1;34m(model)\u001b[0m\n\u001b[0;32m    129\u001b[0m     \u001b[39mreturn\u001b[39;00m model\n\u001b[0;32m    130\u001b[0m _check_mixed_imports(model)\n\u001b[1;32m--> 131\u001b[0m \u001b[39mraise\u001b[39;00m \u001b[39mTypeError\u001b[39;00m(\n\u001b[0;32m    132\u001b[0m     \u001b[39mf\u001b[39m\u001b[39m\"\u001b[39m\u001b[39m`model` must be a `LightningModule` or `torch._dynamo.OptimizedModule`, got `\u001b[39m\u001b[39m{\u001b[39;00m\u001b[39mtype\u001b[39m(model)\u001b[39m.\u001b[39m\u001b[39m__qualname__\u001b[39m\u001b[39m}\u001b[39;00m\u001b[39m`\u001b[39m\u001b[39m\"\u001b[39m\n\u001b[0;32m    133\u001b[0m )\n",
      "\u001b[1;31mTypeError\u001b[0m: `model` must be a `LightningModule` or `torch._dynamo.OptimizedModule`, got `FasterRCNN`"
     ]
    }
   ],
   "source": [
    "from pytorch_lightning import Trainer\n",
    "trainer = Trainer(accelerator=hparams.accelerator,\n",
    "    max_epochs=hparams.max_epochs,\n",
    "    logger=loggers\n",
    ")\n",
    "\n",
    "trainer.fit(model, train_dataloader)"
   ]
  },
  {
   "cell_type": "code",
   "execution_count": 6,
   "metadata": {},
   "outputs": [
    {
     "name": "stdout",
     "output_type": "stream",
     "text": [
      "Iteration #50 loss: 0.9948012961930723\n",
      "Iteration #100 loss: 0.9469753066016935\n",
      "Iteration #150 loss: 0.415995321098141\n",
      "Iteration #200 loss: 0.41657329001827836\n",
      "Iteration #250 loss: 0.37250390882477746\n",
      "Iteration #300 loss: 0.21201269374825674\n",
      "Iteration #350 loss: 0.26147053919509766\n",
      "Iteration #400 loss: 0.3789270970820444\n",
      "Iteration #450 loss: 0.2628116381492644\n",
      "Iteration #500 loss: 0.8007043066721005\n",
      "Iteration #550 loss: 0.5293398501731628\n",
      "Iteration #600 loss: 0.5715343014869576\n",
      "Iteration #650 loss: 0.6960379809678382\n",
      "Iteration #700 loss: 0.6069735954553439\n",
      "Iteration #750 loss: 0.30042116045238826\n",
      "Iteration #800 loss: 0.4375571932864135\n",
      "Iteration #850 loss: 0.4630438817880579\n",
      "Iteration #900 loss: 0.504999027884293\n",
      "Epoch #0 loss: 0.5311573010617584\n",
      "Iteration #950 loss: 0.1910115289601049\n",
      "Iteration #1000 loss: 0.7373331665307973\n"
     ]
    },
    {
     "ename": "KeyboardInterrupt",
     "evalue": "",
     "output_type": "error",
     "traceback": [
      "\u001b[1;31m---------------------------------------------------------------------------\u001b[0m",
      "\u001b[1;31mKeyboardInterrupt\u001b[0m                         Traceback (most recent call last)",
      "\u001b[1;32mc:\\Users\\vismi\\Documents\\University\\ComTek-7-AVS\\Miniproject\\object_detector.ipynb Cell 6\u001b[0m line \u001b[0;36m1\n\u001b[0;32m     <a href='vscode-notebook-cell:/c%3A/Users/vismi/Documents/University/ComTek-7-AVS/Miniproject/object_detector.ipynb#W5sZmlsZQ%3D%3D?line=13'>14</a>\u001b[0m loss_hist\u001b[39m.\u001b[39mreset()\n\u001b[0;32m     <a href='vscode-notebook-cell:/c%3A/Users/vismi/Documents/University/ComTek-7-AVS/Miniproject/object_detector.ipynb#W5sZmlsZQ%3D%3D?line=15'>16</a>\u001b[0m \u001b[39mfor\u001b[39;00m frames, targets \u001b[39min\u001b[39;00m train_dataloader:\n\u001b[1;32m---> <a href='vscode-notebook-cell:/c%3A/Users/vismi/Documents/University/ComTek-7-AVS/Miniproject/object_detector.ipynb#W5sZmlsZQ%3D%3D?line=17'>18</a>\u001b[0m     frames \u001b[39m=\u001b[39m [frame\u001b[39m.\u001b[39;49mto(device) \u001b[39mfor\u001b[39;49;00m frame \u001b[39min\u001b[39;49;00m frames]\n\u001b[0;32m     <a href='vscode-notebook-cell:/c%3A/Users/vismi/Documents/University/ComTek-7-AVS/Miniproject/object_detector.ipynb#W5sZmlsZQ%3D%3D?line=18'>19</a>\u001b[0m     targets \u001b[39m=\u001b[39m [{k: v\u001b[39m.\u001b[39mto(device) \u001b[39mfor\u001b[39;00m k, v \u001b[39min\u001b[39;00m t\u001b[39m.\u001b[39mitems()} \u001b[39mfor\u001b[39;00m t \u001b[39min\u001b[39;00m targets]\n\u001b[0;32m     <a href='vscode-notebook-cell:/c%3A/Users/vismi/Documents/University/ComTek-7-AVS/Miniproject/object_detector.ipynb#W5sZmlsZQ%3D%3D?line=20'>21</a>\u001b[0m     loss_dict \u001b[39m=\u001b[39m model(frames, targets)   \u001b[39m##Return the loss\u001b[39;00m\n",
      "\u001b[1;32mc:\\Users\\vismi\\Documents\\University\\ComTek-7-AVS\\Miniproject\\object_detector.ipynb Cell 6\u001b[0m line \u001b[0;36m1\n\u001b[0;32m     <a href='vscode-notebook-cell:/c%3A/Users/vismi/Documents/University/ComTek-7-AVS/Miniproject/object_detector.ipynb#W5sZmlsZQ%3D%3D?line=13'>14</a>\u001b[0m loss_hist\u001b[39m.\u001b[39mreset()\n\u001b[0;32m     <a href='vscode-notebook-cell:/c%3A/Users/vismi/Documents/University/ComTek-7-AVS/Miniproject/object_detector.ipynb#W5sZmlsZQ%3D%3D?line=15'>16</a>\u001b[0m \u001b[39mfor\u001b[39;00m frames, targets \u001b[39min\u001b[39;00m train_dataloader:\n\u001b[1;32m---> <a href='vscode-notebook-cell:/c%3A/Users/vismi/Documents/University/ComTek-7-AVS/Miniproject/object_detector.ipynb#W5sZmlsZQ%3D%3D?line=17'>18</a>\u001b[0m     frames \u001b[39m=\u001b[39m [frame\u001b[39m.\u001b[39;49mto(device) \u001b[39mfor\u001b[39;00m frame \u001b[39min\u001b[39;00m frames]\n\u001b[0;32m     <a href='vscode-notebook-cell:/c%3A/Users/vismi/Documents/University/ComTek-7-AVS/Miniproject/object_detector.ipynb#W5sZmlsZQ%3D%3D?line=18'>19</a>\u001b[0m     targets \u001b[39m=\u001b[39m [{k: v\u001b[39m.\u001b[39mto(device) \u001b[39mfor\u001b[39;00m k, v \u001b[39min\u001b[39;00m t\u001b[39m.\u001b[39mitems()} \u001b[39mfor\u001b[39;00m t \u001b[39min\u001b[39;00m targets]\n\u001b[0;32m     <a href='vscode-notebook-cell:/c%3A/Users/vismi/Documents/University/ComTek-7-AVS/Miniproject/object_detector.ipynb#W5sZmlsZQ%3D%3D?line=20'>21</a>\u001b[0m     loss_dict \u001b[39m=\u001b[39m model(frames, targets)   \u001b[39m##Return the loss\u001b[39;00m\n",
      "\u001b[1;31mKeyboardInterrupt\u001b[0m: "
     ]
    }
   ],
   "source": [
    "model.train()\n",
    "model.to(device)\n",
    "params = [p for p in model.parameters() if p.requires_grad]\n",
    "optimizer = torch.optim.SGD(params, lr=0.01, momentum=0.9, weight_decay=0.00001)\n",
    "# lr_scheduler = torch.optim.lr_scheduler.StepLR(optimizer, step_size=1, gamma=0.5)\n",
    "lr_scheduler = None\n",
    "\n",
    "num_epochs = 5\n",
    "\n",
    "loss_hist = Averager()\n",
    "itr = 1\n",
    "\n",
    "for epoch in range(num_epochs):\n",
    "    loss_hist.reset()\n",
    "    \n",
    "    for frames, targets in train_dataloader:\n",
    "        \n",
    "        frames = [frame.to(device) for frame in frames]\n",
    "        targets = [{k: v.to(device) for k, v in t.items()} for t in targets]\n",
    "\n",
    "        loss_dict = model(frames, targets)   ##Return the loss\n",
    "\n",
    "        losses = sum(loss for loss in loss_dict.values())\n",
    "        loss_value = losses.item()\n",
    "\n",
    "        loss_hist.send(loss_value)  #Average out the loss\n",
    "\n",
    "        optimizer.zero_grad()\n",
    "        losses.backward()\n",
    "        optimizer.step()\n",
    "\n",
    "        if itr % 50 == 0:\n",
    "            print(f\"Iteration #{itr} loss: {loss_value}\")\n",
    "\n",
    "        itr += 1\n",
    "    \n",
    "    # update the learning rate\n",
    "    if lr_scheduler is not None:\n",
    "        lr_scheduler.step()\n",
    "\n",
    "    print(f\"Epoch #{epoch} loss: {loss_hist.value}\")"
   ]
  },
  {
   "cell_type": "code",
   "execution_count": null,
   "metadata": {},
   "outputs": [],
   "source": []
  }
 ],
 "metadata": {
  "kernelspec": {
   "display_name": ".venv",
   "language": "python",
   "name": "python3"
  },
  "language_info": {
   "codemirror_mode": {
    "name": "ipython",
    "version": 3
   },
   "file_extension": ".py",
   "mimetype": "text/x-python",
   "name": "python",
   "nbconvert_exporter": "python",
   "pygments_lexer": "ipython3",
   "version": "3.11.6"
  }
 },
 "nbformat": 4,
 "nbformat_minor": 2
}
