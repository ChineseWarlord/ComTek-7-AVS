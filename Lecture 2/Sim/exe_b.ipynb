{
 "cells": [
  {
   "cell_type": "markdown",
   "metadata": {},
   "source": [
    "Exercise B\n",
    "\n",
    "B.1) Calibrate the camera using the built-in functions in OpenCV. Note: the checkerboard used in the images is of size 6x9 with each black/white square having a size of 20 mm.\n",
    "\n",
    "B.2) Unfortunately not all the lines in the images are straight. Especially towards the edges of the images. Rectify this by undistorting (cv2.undistort) one of the images. Save the undistorted image. Is there a difference between the original and undistorted image? An example of an undistorted image is shown below:"
   ]
  },
  {
   "cell_type": "code",
   "execution_count": 2,
   "metadata": {},
   "outputs": [],
   "source": [
    "# Importing libraries & packages\n",
    "import numpy as np\n",
    "import cv2 as cv\n",
    "import matplotlib.pyplot as plt\n",
    "import time\n",
    "import glob\n",
    "\n",
    "# Images path\n",
    "data_A = \"../Images/exe_a/\"\n",
    "data_B = \"../Images/exe_b/\"\n",
    "data_C = \"../Images/exe_c/\"\n",
    "output = \"output/\""
   ]
  },
  {
   "cell_type": "markdown",
   "metadata": {},
   "source": [
    "B.1) Calibrate the camera using the built-in functions in OpenCV. Note: the checkerboard used in the images is of size 6x9 with each black/white square having a size of 20 mm."
   ]
  },
  {
   "cell_type": "code",
   "execution_count": 3,
   "metadata": {},
   "outputs": [
    {
     "ename": "NameError",
     "evalue": "name 'img' is not defined",
     "output_type": "error",
     "traceback": [
      "\u001b[1;31m---------------------------------------------------------------------------\u001b[0m",
      "\u001b[1;31mNameError\u001b[0m                                 Traceback (most recent call last)",
      "\u001b[1;32mc:\\Users\\simon\\Nextcloud\\7th Semester Project\\ComTek-7-AVS\\Lecture 2\\Sim\\exe_b.ipynb Cell 4\u001b[0m line \u001b[0;36m2\n\u001b[0;32m     <a href='vscode-notebook-cell:/c%3A/Users/simon/Nextcloud/7th%20Semester%20Project/ComTek-7-AVS/Lecture%202/Sim/exe_b.ipynb#W4sZmlsZQ%3D%3D?line=22'>23</a>\u001b[0m         imgpoints\u001b[39m.\u001b[39mappend(corners2)\n\u001b[0;32m     <a href='vscode-notebook-cell:/c%3A/Users/simon/Nextcloud/7th%20Semester%20Project/ComTek-7-AVS/Lecture%202/Sim/exe_b.ipynb#W4sZmlsZQ%3D%3D?line=24'>25</a>\u001b[0m \u001b[39m# Draw and display the corners\u001b[39;00m\n\u001b[1;32m---> <a href='vscode-notebook-cell:/c%3A/Users/simon/Nextcloud/7th%20Semester%20Project/ComTek-7-AVS/Lecture%202/Sim/exe_b.ipynb#W4sZmlsZQ%3D%3D?line=25'>26</a>\u001b[0m cv\u001b[39m.\u001b[39mdrawChessboardCorners(img, (\u001b[39m7\u001b[39m,\u001b[39m6\u001b[39m), corners2, ret)\n\u001b[0;32m     <a href='vscode-notebook-cell:/c%3A/Users/simon/Nextcloud/7th%20Semester%20Project/ComTek-7-AVS/Lecture%202/Sim/exe_b.ipynb#W4sZmlsZQ%3D%3D?line=26'>27</a>\u001b[0m cv\u001b[39m.\u001b[39mimshow(\u001b[39m'\u001b[39m\u001b[39mimg\u001b[39m\u001b[39m'\u001b[39m, img)\n\u001b[0;32m     <a href='vscode-notebook-cell:/c%3A/Users/simon/Nextcloud/7th%20Semester%20Project/ComTek-7-AVS/Lecture%202/Sim/exe_b.ipynb#W4sZmlsZQ%3D%3D?line=27'>28</a>\u001b[0m cv\u001b[39m.\u001b[39mwaitKey(\u001b[39m500\u001b[39m)\n",
      "\u001b[1;31mNameError\u001b[0m: name 'img' is not defined"
     ]
    }
   ],
   "source": [
    "# termination criteria\n",
    "criteria = (cv.TERM_CRITERIA_EPS + cv.TERM_CRITERIA_MAX_ITER, 30, 0.001)\n",
    "\n",
    "# prepare object points, like (0,0,0), (1,0,0), (2,0,0) ....,(6,5,0)\n",
    "objp = np.zeros((6*7,3), np.float32)\n",
    "objp[:,:2] = np.mgrid[0:7,0:6].T.reshape(-1,2)\n",
    "\n",
    "# Arrays to store object points and image points from all the images.\n",
    "objpoints = [] # 3d point in real world space\n",
    "imgpoints = [] # 2d points in image plane.\n",
    "\n",
    "\n",
    "images = glob.glob('*.jpg')\n",
    "for fname in images:\n",
    "    img = cv.imread(fname)\n",
    "    gray = cv.cvtColor(img, cv.COLOR_BGR2GRAY)\n",
    "    # Find the chess board corners\n",
    "    ret, corners = cv.findChessboardCorners(gray, (7,6), None)\n",
    "    # If found, add object points, image points (after refining them)\n",
    "    if ret == True:\n",
    "        objpoints.append(objp)\n",
    "        corners2 = cv.cornerSubPix(gray,corners, (11,11), (-1,-1), criteria)\n",
    "        imgpoints.append(corners2)\n",
    " \n",
    "# Draw and display the corners\n",
    "cv.drawChessboardCorners(img, (7,6), corners2, ret)\n",
    "cv.imshow('img', img)\n",
    "cv.waitKey(500)\n",
    "cv.destroyAllWindows()"
   ]
  }
 ],
 "metadata": {
  "kernelspec": {
   "display_name": ".venv",
   "language": "python",
   "name": "python3"
  },
  "language_info": {
   "codemirror_mode": {
    "name": "ipython",
    "version": 3
   },
   "file_extension": ".py",
   "mimetype": "text/x-python",
   "name": "python",
   "nbconvert_exporter": "python",
   "pygments_lexer": "ipython3",
   "version": "3.11.2"
  },
  "orig_nbformat": 4
 },
 "nbformat": 4,
 "nbformat_minor": 2
}
