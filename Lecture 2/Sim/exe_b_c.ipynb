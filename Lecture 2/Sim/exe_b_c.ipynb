{
 "cells": [
  {
   "cell_type": "markdown",
   "metadata": {},
   "source": [
    "Exercise B\n",
    "\n",
    "B.1) Calibrate the camera using the built-in functions in OpenCV. Note: the checkerboard used in the images is of size 6x9 with each black/white square having a size of 20 mm.\n",
    "\n",
    "B.2) Unfortunately not all the lines in the images are straight. Especially towards the edges of the images. Rectify this by undistorting (cv2.undistort) one of the images. Save the undistorted image. Is there a difference between the original and undistorted image?"
   ]
  },
  {
   "cell_type": "code",
   "execution_count": null,
   "metadata": {},
   "outputs": [],
   "source": [
    "# Importing libraries & packages\n",
    "import numpy as np\n",
    "import cv2 as cv\n",
    "import matplotlib.pyplot as plt\n",
    "import time\n",
    "import glob\n",
    "\n",
    "# Images path\n",
    "data_A = \"../Images/exe_a/\"\n",
    "data_B = \"../Images/exe_b/\"\n",
    "data_C = \"../Images/exe_c/\"\n",
    "output = \"output/\""
   ]
  },
  {
   "cell_type": "markdown",
   "metadata": {},
   "source": [
    "B.1) Calibrate the camera using the built-in functions in OpenCV. Note: the checkerboard used in the images is of size 6x9 with each black/white square having a size of 20 mm."
   ]
  },
  {
   "cell_type": "code",
   "execution_count": null,
   "metadata": {},
   "outputs": [],
   "source": [
    "# termination criteria\n",
    "criteria = (cv.TERM_CRITERIA_EPS + cv.TERM_CRITERIA_MAX_ITER, 30, 0.001)\n",
    "\n",
    "# prepare object points, like (0,0,0), (1,0,0), (2,0,0) ....,(6,5,0)\n",
    "objp = np.zeros((9*6,3), np.float32)\n",
    "objp[:,:2] = np.mgrid[0:9,0:6].T.reshape(-1,2)\n",
    "\n",
    "# Arrays to store object points and image points from all the images.\n",
    "objpoints = [] # 3d point in real world space\n",
    "imgpoints = [] # 2d points in image plane.\n",
    "\n",
    "images = glob.glob(data_B+'*.jpeg')\n",
    "for fname in images:\n",
    "    img = cv.imread(fname)\n",
    "    gray = cv.cvtColor(img, cv.COLOR_BGR2GRAY)\n",
    "    # Find the chess board corners\n",
    "    ret, corners = cv.findChessboardCorners(gray, (9,6), None)\n",
    "    # If found, add object points, image points (after refining them)\n",
    "    if ret == True:\n",
    "        objpoints.append(objp)\n",
    "        corners2 = cv.cornerSubPix(gray,corners, (11,11), (-1,-1), criteria)\n",
    "        imgpoints.append(corners2)\n",
    "\n",
    "    # Draw and display the corners\n",
    "    cv.drawChessboardCorners(img, (9,6), corners2, ret)\n",
    "    cv.imshow('img', img)\n",
    "    cv.waitKey(0)\n",
    "    cv.destroyAllWindows()\n",
    "\n",
    "# Calibrating camera   \n",
    "ret, mtx, dist, rvecs, tvecs = cv.calibrateCamera(objpoints, imgpoints, gray.shape[::-1], None, None)\n",
    "    \n",
    "print('Camera matrix', mtx)\n",
    "print('Distortion coeffs', dist)\n",
    "print('Rotation vectors', rvecs)\n",
    "print('Translation vectors', tvecs)"
   ]
  },
  {
   "cell_type": "markdown",
   "metadata": {},
   "source": [
    "B.2) Unfortunately not all the lines in the images are straight. Especially towards the edges of the images. Rectify this by undistorting (cv2.undistort) one of the images. Save the undistorted image. Is there a difference between the original and undistorted image?"
   ]
  },
  {
   "cell_type": "code",
   "execution_count": null,
   "metadata": {},
   "outputs": [],
   "source": [
    "# Load img and refine camera matrix\n",
    "img = cv.imread(data_B+'00004.jpeg')\n",
    "h, w = img.shape[:2]\n",
    "newcameramtx, roi = cv.getOptimalNewCameraMatrix(mtx, dist, (w,h), 1, (w,h))\n",
    "\n",
    "# undistort\n",
    "dst = cv.undistort(img, mtx, dist, None, newcameramtx)\n",
    "\n",
    "# crop the image\n",
    "x, y, w, h = roi\n",
    "dst = dst[y:y+h, x:x+w]\n",
    "cv.imwrite(output+'calibresult.png', dst)"
   ]
  },
  {
   "cell_type": "markdown",
   "metadata": {},
   "source": [
    "Exercise C\n",
    "\n",
    "C.1) In image 'images/00006.jpeg' draw the x, y and z axes such that they correspond with the checkerboard with origo at (0,0,0) in relation to the checkerboard in the image. Each axis should be 40 mm in the world space.\n",
    "\n",
    "C.2) Try to project the point (40.0, 0.0, 0.0) from the 3D world coordinates (in relation to the checkerboard) to 2D image coordinates without using the cv2.projectPoints function and instead apply the matrices K[R|t] (which is known from our earlier calibration). Draw the resulting point onto the original image and save the resulting. Does it look like expected?"
   ]
  },
  {
   "cell_type": "markdown",
   "metadata": {},
   "source": [
    "C.1) In image 'images/00006.jpeg' draw the x, y and z axes such that they correspond with the checkerboard with origo at (0,0,0) in relation to the checkerboard in the image. Each axis should be 40 mm in the world space."
   ]
  },
  {
   "cell_type": "code",
   "execution_count": null,
   "metadata": {},
   "outputs": [],
   "source": [
    "# Function to draw 3D axis\n",
    "def draw(img, corners, imgpts):\n",
    "    corner = tuple(corners[0].ravel())\n",
    "    origo = (int(imgpts[0][0][0]),\n",
    "            int(imgpts[0][0][1]))\n",
    "    img = cv.line(img, corner, origo, (255,0,0), 5)\n",
    "    img = cv.line(img, corner, origo, (0,255,0), 5)\n",
    "    img = cv.line(img, corner, origo, (0,0,255), 5)\n",
    "    return img"
   ]
  },
  {
   "cell_type": "code",
   "execution_count": null,
   "metadata": {},
   "outputs": [],
   "source": [
    "# Create termination criteria , obj points + axis points\n",
    "criteria = (cv.TERM_CRITERIA_EPS + cv.TERM_CRITERIA_MAX_ITER, 30, 0.001)\n",
    "objp = np.zeros((6*9,3), np.float32)\n",
    "objp[:,:2] = np.mgrid[0:9,0:6].T.reshape(-1,2)\n",
    "axis = np.float32([[3,0,0], [0,3,0], [0,0,-3]]).reshape(-1,3)\n",
    "\n",
    "for fname in glob.glob(data_C+'00006.jpeg'):\n",
    "    img = cv.imread(fname)\n",
    "    gray = cv.cvtColor(img,cv.COLOR_BGR2GRAY)\n",
    "    ret, corners = cv.findChessboardCorners(gray, (9,6),None)\n",
    "    if ret == True:\n",
    "        corners2 = cv.cornerSubPix(gray,corners,(11,11),(-1,-1),criteria)\n",
    "        # Find the rotation and translation vectors.\n",
    "        ret,rvecs, tvecs = cv.solvePnP(objp, corners2, mtx, dist)\n",
    "        # project 3D points to image plane\n",
    "        imgpts, jac = cv.projectPoints(axis, rvecs, tvecs, mtx, dist)\n",
    "        img = draw(img,corners2,imgpts)\n",
    "        cv.imshow('img',img)\n",
    "        k = cv.waitKey(0)\n",
    "        if k == ord('s'):\n",
    "            cv.imwrite(output+fname[:6]+'.png', img)\n",
    "cv.destroyAllWindows()"
   ]
  },
  {
   "cell_type": "markdown",
   "metadata": {},
   "source": [
    "C.2) Try to project the point (40.0, 0.0, 0.0) from the 3D world coordinates (in relation to the checkerboard) to 2D image coordinates without using the cv2.projectPoints function and instead apply the matrices K[R|t] (which is known from our earlier calibration). Draw the resulting point onto the original image and save the resulting. Does it look like expected?"
   ]
  },
  {
   "cell_type": "code",
   "execution_count": null,
   "metadata": {},
   "outputs": [],
   "source": []
  }
 ],
 "metadata": {
  "kernelspec": {
   "display_name": ".venv",
   "language": "python",
   "name": "python3"
  },
  "language_info": {
   "codemirror_mode": {
    "name": "ipython",
    "version": 3
   },
   "file_extension": ".py",
   "mimetype": "text/x-python",
   "name": "python",
   "nbconvert_exporter": "python",
   "pygments_lexer": "ipython3",
   "version": "3.11.2"
  },
  "orig_nbformat": 4
 },
 "nbformat": 4,
 "nbformat_minor": 2
}
