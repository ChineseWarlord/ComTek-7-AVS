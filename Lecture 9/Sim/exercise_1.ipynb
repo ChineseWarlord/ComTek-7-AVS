{
 "cells": [
  {
   "cell_type": "markdown",
   "metadata": {},
   "source": [
    "## Exercise 1 - Depth map to point cloud\n",
    "* Load the RGB image and depth map, and use them to generate a colored point cloud (see this Open3D tutorial for pointers.) You can assume a pinhole camera model with the following intrinsic matrix:\n",
    "[[572.4114, 0.0, 325.2611], [ 0.0, 573.57043, 242.04899], [ 0.0, 0.0, 1.0]]\n",
    "* Visualize the resulting point cloud and save it as a file.\n",
    "\n",
    "* Write a function that returns the 3D coordinate of a given pixel (u,v) using the intrinsic parameters.\n",
    "\n",
    "* Define a bounding box around an object of your choice in the image, convert the corner locations to 3D coordinates and use them to crop the point cloud. You can use the PointCloud.crop() function in Open3D."
   ]
  },
  {
   "cell_type": "code",
   "execution_count": 1,
   "metadata": {},
   "outputs": [
    {
     "name": "stdout",
     "output_type": "stream",
     "text": [
      "Jupyter environment detected. Enabling Open3D WebVisualizer.\n",
      "[Open3D INFO] WebRTC GUI backend enabled.\n",
      "[Open3D INFO] WebRTCWindowSystem: HTTP handshake server disabled.\n"
     ]
    }
   ],
   "source": [
    "# Importing libraries\n",
    "import numpy as np\n",
    "import cv2 as cv\n",
    "import os\n",
    "import open3d as o3d\n",
    "\n",
    "# Defining data paths\n",
    "data_path = \"../Data/\"\n",
    "output_path = \"Output/\""
   ]
  },
  {
   "cell_type": "code",
   "execution_count": null,
   "metadata": {},
   "outputs": [],
   "source": [
    "print(\"Read Redwood dataset\")\n",
    "color_raw = o3d.io.read_image(data_path+\"rgb.png\")\n",
    "depth_raw = o3d.io.read_image(data_path+\"depth.png\")\n",
    "rgbd_image = o3d.geometry.RGBDImage.create_from_color_and_depth(color_raw, depth_raw)\n",
    "print(rgbd_image)"
   ]
  }
 ],
 "metadata": {
  "kernelspec": {
   "display_name": ".venv",
   "language": "python",
   "name": "python3"
  },
  "language_info": {
   "codemirror_mode": {
    "name": "ipython",
    "version": 3
   },
   "file_extension": ".py",
   "mimetype": "text/x-python",
   "name": "python",
   "nbconvert_exporter": "python",
   "pygments_lexer": "ipython3",
   "version": "3.10.10"
  }
 },
 "nbformat": 4,
 "nbformat_minor": 2
}
