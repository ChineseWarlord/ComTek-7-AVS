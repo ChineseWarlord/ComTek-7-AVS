{
 "cells": [
  {
   "cell_type": "markdown",
   "metadata": {},
   "source": [
    "## Exercise 1 - Calculating disparity\n",
    "Let us try to calculate a disparity map from a pair of stereo images using the OpenCV's \"StereoBM\" class . I have included a small \"get started\"-script to help you. It includes the pair of stereo images as well - download it here.\n",
    "\n",
    "* Try different values for the \"blockSize\"-parameter (e.g. 5 and 21). What happens?\n",
    "* Try different values for the disparity levels using the \"numDisparities\"-parameter (note: has to be diversible by 16). \n",
    "* What happens if you use a value of 16? You can get an idea of the maximum disparity by looking at one of the objects in the foreground and comparing how much it shifts it terms of it x-coordinates between the two images (using MS paint or similar to inspect the pixel coordinates).\n",
    "* Try to swap the two images when calling the \"compute(...)\"-function. What happens?"
   ]
  },
  {
   "cell_type": "code",
   "execution_count": 4,
   "metadata": {},
   "outputs": [],
   "source": [
    "import numpy as np\n",
    "import cv2 as cv\n",
    "from matplotlib import pyplot as plt\n",
    "\n",
    "data = \"../tsukuba/\"\n",
    "output = \"output/\""
   ]
  },
  {
   "cell_type": "code",
   "execution_count": 25,
   "metadata": {},
   "outputs": [],
   "source": [
    "# Read the read and left stereo image pair\n",
    "imgR = cv.imread(data+'scene1.row3.col3.ppm', cv.IMREAD_GRAYSCALE)\n",
    "imgL = cv.imread(data+'scene1.row3.col1.ppm', cv.IMREAD_GRAYSCALE)\n",
    "#imgL = cv.imread(data+'scene1.row3.col3.ppm', cv.IMREAD_GRAYSCALE)\n",
    "#imgR = cv.imread(data+'scene1.row3.col1.ppm', cv.IMREAD_GRAYSCALE)"
   ]
  },
  {
   "cell_type": "code",
   "execution_count": 26,
   "metadata": {},
   "outputs": [],
   "source": [
    "# Calculate disparity map\n",
    "n = 1\n",
    "m = 9\n",
    "for i in range(1,n+1):\n",
    "    for j in range(9,m+1):\n",
    "        try:\n",
    "            stereo = cv.StereoBM.create(numDisparities=16*i, blockSize=j)\n",
    "            disparity = stereo.compute(imgL,imgR)\n",
    "            #plt.title(f'disparity map\\nnumDisparities: {16*i}\\nblockSize: {j}')\n",
    "            #plt.imshow(disparity,'gray')\n",
    "            #plt.show()\n",
    "            cv.imwrite(output+f\"disparity_map_numDisparities_{16*i}_blockSize_{j}.png\",disparity)\n",
    "        except:\n",
    "            print(f\"Error! blockSize: {j}\")"
   ]
  }
 ],
 "metadata": {
  "kernelspec": {
   "display_name": ".venv",
   "language": "python",
   "name": "python3"
  },
  "language_info": {
   "codemirror_mode": {
    "name": "ipython",
    "version": 3
   },
   "file_extension": ".py",
   "mimetype": "text/x-python",
   "name": "python",
   "nbconvert_exporter": "python",
   "pygments_lexer": "ipython3",
   "version": "3.11.2"
  }
 },
 "nbformat": 4,
 "nbformat_minor": 2
}
