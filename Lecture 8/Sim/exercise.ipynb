{
 "cells": [
  {
   "cell_type": "markdown",
   "metadata": {},
   "source": [
    "# Exercises\n",
    "\n",
    "Download a couple of music tracks and apply dynamic compressing to them. Make\n",
    "sure that you select different music styles.\n",
    "\n",
    "▶ Use different compressor settings for Threshold, Ratio and Makeup Gain.\n",
    "\n",
    "▶ Listen to the different versions of the files and try to evaluate if you can hear the\n",
    "differences.\n",
    "\n",
    "▶ Discuss the results in the group.\n",
    "\n",
    "▶ Discuss the differences between the ITU and the ISO models for loudness. What are\n",
    "the main differences?"
   ]
  },
  {
   "cell_type": "code",
   "execution_count": null,
   "metadata": {},
   "outputs": [],
   "source": []
  }
 ],
 "metadata": {
  "kernelspec": {
   "display_name": ".venv",
   "language": "python",
   "name": "python3"
  },
  "language_info": {
   "codemirror_mode": {
    "name": "ipython",
    "version": 3
   },
   "file_extension": ".py",
   "mimetype": "text/x-python",
   "name": "python",
   "nbconvert_exporter": "python",
   "pygments_lexer": "ipython3",
   "version": "3.11.6"
  }
 },
 "nbformat": 4,
 "nbformat_minor": 2
}
