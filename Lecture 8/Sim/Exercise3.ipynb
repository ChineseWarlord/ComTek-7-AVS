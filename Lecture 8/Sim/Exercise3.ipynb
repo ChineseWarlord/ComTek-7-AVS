{
 "cells": [
  {
   "cell_type": "markdown",
   "metadata": {},
   "source": [
    "## Exercise 3 - Stereo calibration & rectification\n",
    "So far we have relied on already rectified images and pre-calibrated cameras. But let us try to do both this calibration and rectification on our own! This can be done using OpenCV's \"stereoCalibrate(...)\"-function which relies on paired stereo images of a checkerboard in order to perform the calibration. You can download the \"get started\"-script along with the checkerboard images here.\n",
    "\n",
    "* Carry out the actual stereo calibration. What is the resulting baseline (i.e. distance between the two stereo cameras) according to the calibration?\n",
    "* If we look at a pair of the stereo images used for the calibration (e.g. \"left01.jpg\" and \"right01.jpg\") is it clear that they are not rectified. Try to rectify them (just a single pair is fine) and plot the result. (hint: look at the \"stereoRectify(...)\"-function used earlier in exercise 2 and the subsequent remapping of the images)\n",
    "* Save the fundamental matrix for next exercise! (write it to a file or just do a copy & paste...)"
   ]
  },
  {
   "cell_type": "code",
   "execution_count": null,
   "metadata": {},
   "outputs": [],
   "source": [
    "import numpy as np\n",
    "import cv2\n",
    "from matplotlib import pyplot as plt"
   ]
  }
 ],
 "metadata": {
  "kernelspec": {
   "display_name": ".venv",
   "language": "python",
   "name": "python3"
  },
  "language_info": {
   "name": "python",
   "version": "3.11.2"
  }
 },
 "nbformat": 4,
 "nbformat_minor": 2
}
