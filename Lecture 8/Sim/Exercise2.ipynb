{
 "cells": [
  {
   "cell_type": "markdown",
   "metadata": {},
   "source": [
    "## Exercise 2 - Disparity to depth\n",
    "Now let us try to convert a disparity map into a depth map. This time we need a pair of stereo images along with known intrinsic and extrinsic parameters. I have included these in the \"get started\"-script which can be downloaded here.\n",
    "\n",
    "* Compute the disparity map using the\"StereoBM\" class. Try to chose sensible values for both the block size and number of disparities. (you can try to inspect foreground objects to make an estimated guess about the number of disparities)\n",
    "* Reproject the disparity map to 3D using OpenCV's \"reprojectImageTo3D(...)\"-function. You will need the Q matrix from the \"stereoRectify(...)\"-function estimated earlier in the script.\n",
    "* Try to extract the z-values of the resulting 3D points and plot it as a depth map. (hint: you may have to clip the value to a reasonable range to avoid noise. Depth values between 0 and 2000 seems reasonable). Does it make sense? How far away is the potted plant from the camera?\n",
    "* The translation between the two cameras is currently set to -174.724 mm - what happens if you change it to meters instead? Plot the resulting depth map."
   ]
  },
  {
   "cell_type": "code",
   "execution_count": null,
   "metadata": {},
   "outputs": [],
   "source": [
    "import numpy as np\n",
    "import cv2\n",
    "from matplotlib import pyplot as plt"
   ]
  }
 ],
 "metadata": {
  "kernelspec": {
   "display_name": ".venv",
   "language": "python",
   "name": "python3"
  },
  "language_info": {
   "name": "python",
   "version": "3.11.2"
  }
 },
 "nbformat": 4,
 "nbformat_minor": 2
}
