{
 "cells": [
  {
   "cell_type": "code",
   "execution_count": null,
   "metadata": {},
   "outputs": [],
   "source": [
    "# ###################################\n",
    "# Group ID : <741>\n",
    "# Members : <Jon, Vasiliki, Simon>\n",
    "# Date : <xx/09>\n",
    "# Lecture: <3> <Parametric and nonparametric methods> (see moodle)\n",
    "# Dependencies: ipykernel, numpy, pandas, matplotlib\n",
    "# Python version: Latest 3.11.2\n",
    "# Functionality: Short Description. Example: This script trains a MLP for classifying\n",
    "# handwritten digits. It also test the performance on a given data set for various\n",
    "# settings.\n",
    "# ###################################"
   ]
  },
  {
   "cell_type": "markdown",
   "metadata": {},
   "source": [
    "Exercise Description:\n",
    "\n",
    "You are given, as the train data, trn_x and trn_y along with their class labels trn_x_class and trn_y_class. The task is to classify the following TEST data.\n",
    "* (a) classify instances in tst_xy, and use the corresponding label file tst_xy_class to calculate the accuracy;\n",
    "* (b) classify instances in tst_xy_126 by assuming a uniform prior over the space of hypotheses, and use the corresponding label file tst_xy_126_class to calculate the accuracy;\n",
    "* (c) classify instances in tst_xy_126 by assuming a prior probability of 0.9 for Class x and 0.1 for Class y, and use the corresponding label file tst_xy_126_class to calculate the accuracy; compare the results with those of (b).\n",
    "\n",
    "To plot Gaussian, you may use PLOT_GAUSSIAN_ELLIPSOID."
   ]
  },
  {
   "cell_type": "code",
   "execution_count": 3,
   "metadata": {},
   "outputs": [],
   "source": [
    "# Importing libraries and other packages\n",
    "import numpy as np\n",
    "import pandas as pd\n",
    "import matplotlib.pyplot as plt"
   ]
  },
  {
   "cell_type": "markdown",
   "metadata": {},
   "source": [
    "Exercise (a)"
   ]
  },
  {
   "cell_type": "code",
   "execution_count": null,
   "metadata": {},
   "outputs": [],
   "source": [
    "# Load trn_x_class and trn_y_class training class labels\n",
    "trn_x_class = np.loadtxt(\"Data/trn_x_class.txt\")\n",
    "trn_y_class = np.loadtxt(\"Data/trn_y_class.txt\")"
   ]
  },
  {
   "cell_type": "code",
   "execution_count": null,
   "metadata": {},
   "outputs": [],
   "source": [
    "# Compute priors\n",
    "    \n",
    "# Compute means, variances, covariance matrix for multivariate\n",
    "    \n",
    "# Compute likelihood p(x|Ck) for test data\n",
    "    \n",
    "# Compute posterior probabilities or joint probability\n",
    "    \n",
    "# Calculate accuracy using labels"
   ]
  },
  {
   "cell_type": "markdown",
   "metadata": {},
   "source": [
    "Exercise (b)"
   ]
  },
  {
   "cell_type": "code",
   "execution_count": null,
   "metadata": {},
   "outputs": [],
   "source": [
    "# Load trn_x_class and trn_y_class training class labels\n",
    "trn_x_class = np.loadtxt(\"Data/trn_x_class.txt\")\n",
    "trn_y_class = np.loadtxt(\"Data/trn_y_class.txt\")"
   ]
  },
  {
   "cell_type": "code",
   "execution_count": null,
   "metadata": {},
   "outputs": [],
   "source": [
    "# Compute priors\n",
    "    \n",
    "# Compute means, variances, covariance matrix for multivariate\n",
    "    \n",
    "# Compute likelihood p(x|Ck) for test data\n",
    "    \n",
    "# Compute posterior probabilities or joint probability\n",
    "    \n",
    "# Calculate accuracy using labels"
   ]
  },
  {
   "cell_type": "markdown",
   "metadata": {},
   "source": [
    "Exercise (c)"
   ]
  },
  {
   "cell_type": "code",
   "execution_count": null,
   "metadata": {},
   "outputs": [],
   "source": [
    "# Load trn_x_class and trn_y_class training class labels\n",
    "trn_x_class = np.loadtxt(\"Data/trn_x_class.txt\")\n",
    "trn_y_class = np.loadtxt(\"Data/trn_y_class.txt\")"
   ]
  },
  {
   "cell_type": "code",
   "execution_count": null,
   "metadata": {},
   "outputs": [],
   "source": [
    "# Compute priors\n",
    "    \n",
    "# Compute means, variances, covariance matrix for multivariate\n",
    "    \n",
    "# Compute likelihood p(x|Ck) for test data\n",
    "    \n",
    "# Compute posterior probabilities or joint probability\n",
    "    \n",
    "# Calculate accuracy using labels"
   ]
  }
 ],
 "metadata": {
  "kernelspec": {
   "display_name": ".venv",
   "language": "python",
   "name": "python3"
  },
  "language_info": {
   "codemirror_mode": {
    "name": "ipython",
    "version": 3
   },
   "file_extension": ".py",
   "mimetype": "text/x-python",
   "name": "python",
   "nbconvert_exporter": "python",
   "pygments_lexer": "ipython3",
   "version": "3.11.2"
  },
  "orig_nbformat": 4
 },
 "nbformat": 4,
 "nbformat_minor": 2
}
