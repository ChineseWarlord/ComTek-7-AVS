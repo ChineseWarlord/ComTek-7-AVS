{
 "cells": [
  {
   "cell_type": "code",
   "execution_count": 2,
   "metadata": {},
   "outputs": [],
   "source": [
    "# Importing libraries & packages\n",
    "import numpy as np\n",
    "import cv2 as cv\n",
    "import matplotlib.pyplot as plt\n",
    "import time\n",
    "\n",
    "# Images path\n",
    "data = \"../Data/\"\n",
    "output = \"output/\"\n",
    "\n",
    "# Load in imgs\n",
    "img1 = cv.imread(data+\"aau-city-1.jpg\")\n",
    "img2 = cv.imread(data+\"aau-city-2.jpg\")"
   ]
  },
  {
   "cell_type": "markdown",
   "metadata": {},
   "source": [
    "Exercise 1\n",
    "\n",
    "Load two partly overlapping images into OpenCV (aau-city-1 and -2 from Moodle, or take your own pictures)\n",
    "\n",
    "Extract Harris Corners from both images. You may use the OpenCV function cornerHarris()\n",
    "\n",
    "Design and implement your own simple corner matching procedure to find the same points in both images\n",
    "Hint: Look for inspiration in this OpenCV demo: https://docs.opencv.org/master/dc/d0d/tutorial_py_features_harris.html"
   ]
  },
  {
   "cell_type": "code",
   "execution_count": 2,
   "metadata": {},
   "outputs": [],
   "source": [
    "try:\n",
    "    # Convert to grayscale\n",
    "    gray = cv.cvtColor(img1,cv.COLOR_BGR2GRAY)\n",
    "    gray2 = cv.cvtColor(img2,cv.COLOR_BGR2GRAY)\n",
    "\n",
    "    # Harris Corner function\n",
    "    gray = np.float32(gray)\n",
    "    gray2 = np.float32(gray2)\n",
    "    dst = cv.cornerHarris(gray, 2, 3, 0.04)\n",
    "    dst2 = cv.cornerHarris(gray2, 2, 3, 0.04)\n",
    "\n",
    "    #result is dilated for marking the corners, not important\n",
    "    dst = cv.dilate(dst,None)\n",
    "    dst2 = cv.dilate(dst2,None)\n",
    "\n",
    "    # Threshold for an optimal value, it may vary depending on the image.\n",
    "    img1[dst>0.01*dst.max()]=[0,0,255]\n",
    "    img2[dst2>0.01*dst2.max()]=[0,0,255]\n",
    "\n",
    "    # Display img\n",
    "    imgs = np.concatenate((img1, img2), axis=1)\n",
    "    cv.imshow('Detected Corners',imgs)\n",
    "    k = cv.waitKey(0)\n",
    "    if k == ord(\"q\"):\n",
    "        cv.destroyAllWindows()\n",
    "        exit(1)\n",
    "except Exception as e:\n",
    "    print(f\"An error occurred: {str(e)}\")"
   ]
  },
  {
   "cell_type": "code",
   "execution_count": 3,
   "metadata": {},
   "outputs": [],
   "source": [
    "def harris_corner_detector(image, k, threshold):\n",
    "    # Step 1: Calculate derivatives Ix and Iy using Sobel filters\n",
    "    Ix = cv.Sobel(image, cv.CV_64F, 1, 0, ksize=3)\n",
    "    Iy = cv.Sobel(image, cv.CV_64F, 0, 1, ksize=3)\n",
    "\n",
    "    # Step 2: Calculate products Ix*Ix, Iy*Iy, and Ix*Iy\n",
    "    IxIx = Ix * Ix\n",
    "    IyIy = Iy * Iy\n",
    "    IxIy = Ix * Iy\n",
    "\n",
    "    # Step 3: Apply Gaussian smoothing to the products\n",
    "    kernel_size = (3,3)\n",
    "    IxIx = cv.GaussianBlur(IxIx, kernel_size, 0)\n",
    "    IyIy = cv.GaussianBlur(IyIy, kernel_size, 0)\n",
    "    IxIy = cv.GaussianBlur(IxIy, kernel_size, 0)\n",
    "\n",
    "    # Step 4: Compute the Harris corner response function\n",
    "    det_M = (IxIx * IyIy) - (IxIy * IxIy)\n",
    "    trace_M = IxIx + IyIy\n",
    "    response = det_M - k * (trace_M)** 2\n",
    "\n",
    "    # Step 5: Thresholding and non-maximum suppression\n",
    "    corner_points = []\n",
    "    for y in range(image.shape[0]):\n",
    "        for x in range(image.shape[1]):\n",
    "            if response[y, x] > threshold * response.max():\n",
    "                corner_points.append((x, y))\n",
    "\n",
    "    return corner_points"
   ]
  },
  {
   "cell_type": "code",
   "execution_count": 6,
   "metadata": {},
   "outputs": [],
   "source": [
    "# Images path\n",
    "data = \"../Data/\"\n",
    "output = \"output/\"\n",
    "\n",
    "# Load image + convert to grayscale\n",
    "image = cv.imread(data+\"aau-city-1.jpg\")\n",
    "gray = cv.cvtColor(image,cv.COLOR_BGR2GRAY)\n",
    "image2 = cv.imread(data+\"aau-city-2.jpg\")\n",
    "gray2 = cv.cvtColor(image2,cv.COLOR_BGR2GRAY)\n",
    "\n",
    "# Call the Harris corner detector function\n",
    "corners = harris_corner_detector(gray, k = 0.04, threshold = 0.01)\n",
    "corners2 = harris_corner_detector(gray2, k = 0.04, threshold = 0.01)\n",
    "\n",
    "# Draw detected corners on the image\n",
    "for corner in corners:\n",
    "    x, y = corner\n",
    "    cv.circle(image, (x, y), 5, (0,255,0), -1)  # Draw a circle at each corner\n",
    "for corner2 in corners2:\n",
    "    x, y = corner2\n",
    "    cv.circle(image2, (x, y), 5, (0,255,0), -1)  # Draw a circle at each corner\n",
    "\n",
    "# Display the image with detected corners\n",
    "disp_img = np.concatenate((image, image2), axis=1)\n",
    "cv.imshow('Harris Corners', disp_img)\n",
    "cv.waitKey(0)\n",
    "cv.destroyAllWindows()"
   ]
  },
  {
   "cell_type": "markdown",
   "metadata": {},
   "source": [
    "Exercise 2\n",
    "\n",
    "Change your solution from last exercise to extract SIFT keypoints and descriptors instead of Harris Corners and your own descriptors\n",
    "Match feature descriptors using the DescriptorMatcher class\n",
    "Visualize the matches using the drawMatches function"
   ]
  },
  {
   "cell_type": "code",
   "execution_count": null,
   "metadata": {},
   "outputs": [],
   "source": []
  },
  {
   "cell_type": "markdown",
   "metadata": {},
   "source": [
    "Exercise 3\n",
    "\n",
    "Use a homography which includes RANSAC to calculate the transformation between the two images (look at findHomograhy() and warpPerspective()) "
   ]
  },
  {
   "cell_type": "code",
   "execution_count": null,
   "metadata": {},
   "outputs": [],
   "source": []
  }
 ],
 "metadata": {
  "kernelspec": {
   "display_name": ".venv",
   "language": "python",
   "name": "python3"
  },
  "language_info": {
   "codemirror_mode": {
    "name": "ipython",
    "version": 3
   },
   "file_extension": ".py",
   "mimetype": "text/x-python",
   "name": "python",
   "nbconvert_exporter": "python",
   "pygments_lexer": "ipython3",
   "version": "3.11.2"
  },
  "orig_nbformat": 4
 },
 "nbformat": 4,
 "nbformat_minor": 2
}
