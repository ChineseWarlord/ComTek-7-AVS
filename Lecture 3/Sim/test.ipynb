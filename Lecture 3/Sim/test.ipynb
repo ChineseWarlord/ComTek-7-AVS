{
 "cells": [
  {
   "cell_type": "code",
   "execution_count": null,
   "metadata": {},
   "outputs": [],
   "source": [
    "# ###################################\n",
    "# Group ID : <741>\n",
    "# Members : <Jon, Vasiliki, Simon>\n",
    "# Date : <xx/09>\n",
    "# Lecture: <3> <Parametric and nonparametric methods> (see moodle)\n",
    "# Dependencies: ipykernel, numpy, pandas, matplotlib\n",
    "# Python version: Latest 3.11.2\n",
    "# Functionality: Short Description. Example: This script trains a MLP for classifying\n",
    "# handwritten digits. It also test the performance on a given data set for various\n",
    "# settings.\n",
    "# ###################################"
   ]
  },
  {
   "cell_type": "markdown",
   "metadata": {},
   "source": [
    "Exercise Description:\n",
    "\n",
    "You are given, as the train data, trn_x and trn_y along with their class labels trn_x_class and trn_y_class. The task is to classify the following TEST data.\n",
    "\n",
    "- (a) classify instances in tst_xy, and use the corresponding label file tst_xy_class to calculate the accuracy;\n",
    "- (b) classify instances in tst_xy_126 by assuming a uniform prior over the space of hypotheses, and use the corresponding label file tst_xy_126_class to calculate the accuracy;\n",
    "- (c) classify instances in tst_xy_126 by assuming a prior probability of 0.9 for Class x and 0.1 for Class y, and use the corresponding label file tst_xy_126_class to calculate the accuracy; compare the results with those of (b).\n",
    "\n",
    "To plot Gaussian, you may use PLOT_GAUSSIAN_ELLIPSOID.\n"
   ]
  },
  {
   "cell_type": "code",
   "execution_count": 99,
   "metadata": {},
   "outputs": [],
   "source": [
    "# Importing libraries and other packages\n",
    "import numpy as np\n",
    "import pandas as pd\n",
    "import matplotlib.pyplot as plt\n",
    "import math\n",
    "from scipy.stats import multivariate_normal"
   ]
  },
  {
   "cell_type": "code",
   "execution_count": null,
   "metadata": {},
   "outputs": [],
   "source": [
    "# Load Train data\n",
    "train_x = np.loadtxt(\"../Data/trn_x.txt\")\n",
    "train_x_label = np.loadtxt(\"../Data/trn_x_class.txt\")\n",
    "\n",
    "train_y = np.loadtxt(\"../Data/trn_y.txt\")\n",
    "train_y_label = np.loadtxt(\"../Data/trn_y_class.txt\")\n",
    "\n",
    "# Load Test data\n",
    "test_x = np.loadtxt(\"../Data/tst_x.txt\")\n",
    "test_x_label = np.loadtxt(\"../Data/tst_x_class.txt\")\n",
    "\n",
    "test_y = np.loadtxt(\"../Data/tst_y.txt\")\n",
    "test_y_label = np.loadtxt(\"../Data/tst_y_class.txt\")\n",
    "\n",
    "test_y_126 = np.loadtxt(\"../Data/tst_y_126.txt\")\n",
    "test_y_126_label = np.loadtxt(\"../Data/tst_y_126_class.txt\")\n",
    "\n",
    "test_xy = np.loadtxt(\"../Data/tst_xy.txt\")\n",
    "test_xy_label = np.loadtxt(\"../Data/tst_xy_class.txt\")\n",
    "\n",
    "test_xy_126 = np.loadtxt(\"../Data/tst_xy_126.txt\")\n",
    "test_xy_126_label = np.loadtxt(\"../Data/tst_xy_126_class.txt\")\n",
    "\n",
    "print(f\"train_x: {len(train_x)}\\ntrain_x_class: {len(train_x_label)}\")\n",
    "print(f\"train_y: {len(train_y)}\\ntrain_y_class: {len(train_y_label)}\")"
   ]
  },
  {
   "cell_type": "code",
   "execution_count": null,
   "metadata": {},
   "outputs": [],
   "source": [
    "# Create a scatterplot of the training data\n",
    "plt.scatter(train_x[:, 0], train_x[:, 1], edgecolors=\"k\")\n",
    "plt.scatter(train_y[:, 0], train_y[:, 1], edgecolors=\"k\")\n",
    "plt.show()"
   ]
  },
  {
   "cell_type": "markdown",
   "metadata": {},
   "source": [
    "Exercise (a)\n"
   ]
  },
  {
   "cell_type": "code",
   "execution_count": 104,
   "metadata": {},
   "outputs": [
    {
     "name": "stdout",
     "output_type": "stream",
     "text": [
      "train_x_mean: [-1.61931577  0.22651021]\n",
      "train_x_cov: [[ 2.67373236 -0.00766618]\n",
      " [-0.00766618  0.07231472]]\n",
      "\n",
      "train_y_mean: [ 0.45262897 -0.63788186]\n",
      "train_y_cov: [[ 0.32252417 -0.02634358]\n",
      " [-0.02634358  0.52652025]]\n",
      "\n",
      "prior_x: 0.5543040368330182\n",
      "prior_y: 0.44569596316698185\n",
      "-0.007666175971881721\n"
     ]
    }
   ],
   "source": [
    "# x statistics\n",
    "train_x_mean = np.mean(train_x, 0)\n",
    "train_x_cov = np.cov(train_x, rowvar=False)\n",
    "\n",
    "print(f\"train_x_mean: {train_x_mean}\\ntrain_x_cov: {train_x_cov}\\n\")\n",
    "\n",
    "# y statistics\n",
    "train_y_mean = np.mean(train_y, 0)\n",
    "train_y_cov = np.cov(train_y, rowvar=False)\n",
    "\n",
    "print(f\"train_y_mean: {train_y_mean}\\ntrain_y_cov: {train_y_cov}\\n\")\n",
    "\n",
    "# Compute priors\n",
    "prior_x = len(train_x) / (len(train_x) + len(train_y))\n",
    "prior_y = len(train_y) / (len(train_x) + len(train_y))\n",
    "\n",
    "print(f\"prior_x: {prior_x}\\nprior_y: {prior_y}\")\n",
    "print(train_x_cov[0,1])\n"
   ]
  },
  {
   "cell_type": "code",
   "execution_count": 96,
   "metadata": {},
   "outputs": [],
   "source": [
    "# Compute likelihood p(x|Ck) for test data\n",
    "#def likelihood(data,mean,cov):\n",
    "#    coeff = -1/(2*cov[0,1]) \n",
    "    \n",
    "#    N = len(data)\n",
    "#    sum = 0\n",
    "#    for i in range(N):\n",
    "#        sum = (data[i] - mean)**2 - N/2 * np.log(cov[0,1]**2) - N/2 * np.log(2*np.pi) \n",
    "        \n",
    "#    print(coeff * sum)\n",
    "\n",
    "# Define the log-likelihood function for Gaussian parameter estimation\n",
    "def log_likelihood(mu, cov_matrix, data):\n",
    "    N = len(data)\n",
    "    \n",
    "    # Calculate the log of the determinant of the covariance matrix\n",
    "    log_det_cov = np.log(np.linalg.det(cov_matrix))\n",
    "    \n",
    "    # Compute the inverse of the covariance matrix\n",
    "    cov_inv = np.linalg.inv(cov_matrix)\n",
    "    \n",
    "    # Calculate the sum of squared Mahalanobis distances\n",
    "    mahalanobis = np.sum(np.dot((data - mu), cov_inv) * (data - mu), axis=1)\n",
    "    \n",
    "    # Compute the log-likelihood\n",
    "    log_lik = -0.5 * np.sum(mahalanobis) - 0.5 * N * log_det_cov - 0.5 * N * 2 * math.log(math.pi)\n",
    "    \n",
    "    return log_lik"
   ]
  },
  {
   "cell_type": "code",
   "execution_count": 108,
   "metadata": {},
   "outputs": [
    {
     "name": "stdout",
     "output_type": "stream",
     "text": [
      "-8918.340945552272\n",
      "[-1.13030368 -1.37326601 -1.02581948 ... -1.06310421 -1.62327972\n",
      " -3.50758909]\n"
     ]
    },
    {
     "ename": "",
     "evalue": "",
     "output_type": "error",
     "traceback": [
      "\u001b[1;31mThe Kernel crashed while executing code in the the current cell or a previous cell. Please review the code in the cell(s) to identify a possible cause of the failure. Click <a href='https://aka.ms/vscodeJupyterKernelCrash'>here</a> for more info. View Jupyter <a href='command:jupyter.viewOutput'>log</a> for further details."
     ]
    }
   ],
   "source": [
    "test = log_likelihood(train_x_mean,train_x_cov,train_x)\n",
    "print(test)\n",
    "\n",
    "# Create a multivariate Gaussian distribution object\n",
    "mvn = multivariate_normal(mean=train_x_mean, cov=train_x_cov)\n",
    "test2 = mvn.logpdf(train_x)\n",
    "print(test2)"
   ]
  },
  {
   "cell_type": "code",
   "execution_count": null,
   "metadata": {},
   "outputs": [],
   "source": [
    "# Compute posterior probabilities or joint probability\n",
    "\n",
    "# Calculate accuracy using labels"
   ]
  },
  {
   "cell_type": "markdown",
   "metadata": {},
   "source": [
    "Exercise (b)\n"
   ]
  },
  {
   "cell_type": "code",
   "execution_count": null,
   "metadata": {},
   "outputs": [],
   "source": [
    "# Load trn_x_class and trn_y_class training class labels\n",
    "trn_x_class = np.loadtxt(\"Data/trn_x_class.txt\")\n",
    "trn_y_class = np.loadtxt(\"Data/trn_y_class.txt\")"
   ]
  },
  {
   "cell_type": "code",
   "execution_count": null,
   "metadata": {},
   "outputs": [],
   "source": [
    "# Compute priors\n",
    "\n",
    "# Compute means, variances, covariance matrix for multivariate\n",
    "\n",
    "# Compute likelihood p(x|Ck) for test data\n",
    "\n",
    "# Compute posterior probabilities or joint probability\n",
    "\n",
    "# Calculate accuracy using labels"
   ]
  },
  {
   "cell_type": "markdown",
   "metadata": {},
   "source": [
    "Exercise (c)\n"
   ]
  },
  {
   "cell_type": "code",
   "execution_count": null,
   "metadata": {},
   "outputs": [],
   "source": [
    "# Load trn_x_class and trn_y_class training class labels\n",
    "trn_x_class = np.loadtxt(\"Data/trn_x_class.txt\")\n",
    "trn_y_class = np.loadtxt(\"Data/trn_y_class.txt\")"
   ]
  },
  {
   "cell_type": "code",
   "execution_count": null,
   "metadata": {},
   "outputs": [],
   "source": [
    "# Compute priors\n",
    "\n",
    "# Compute means, variances, covariance matrix for multivariate\n",
    "\n",
    "# Compute likelihood p(x|Ck) for test data\n",
    "\n",
    "# Compute posterior probabilities or joint probability\n",
    "\n",
    "# Calculate accuracy using labels"
   ]
  }
 ],
 "metadata": {
  "kernelspec": {
   "display_name": ".venv",
   "language": "python",
   "name": "python3"
  },
  "language_info": {
   "codemirror_mode": {
    "name": "ipython",
    "version": 3
   },
   "file_extension": ".py",
   "mimetype": "text/x-python",
   "name": "python",
   "nbconvert_exporter": "python",
   "pygments_lexer": "ipython3",
   "version": "3.11.2"
  },
  "orig_nbformat": 4
 },
 "nbformat": 4,
 "nbformat_minor": 2
}
