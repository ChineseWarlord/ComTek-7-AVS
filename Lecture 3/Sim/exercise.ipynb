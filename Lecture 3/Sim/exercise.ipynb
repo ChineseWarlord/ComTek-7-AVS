{
 "cells": [
  {
   "cell_type": "code",
   "execution_count": null,
   "metadata": {},
   "outputs": [],
   "source": [
    "# ###################################\n",
    "# Group ID : <741>\n",
    "# Members : <Jon, Vasiliki, Simon>\n",
    "# Date : <xx/09>\n",
    "# Lecture: <3> <Parametric and nonparametric methods> (see moodle)\n",
    "# Dependencies: ipykernel, numpy, pandas, matplotlib\n",
    "# Python version: Latest 3.11.2\n",
    "# Functionality: Short Description. Example: This script trains a MLP for classifying\n",
    "# handwritten digits. It also test the performance on a given data set for various\n",
    "# settings.\n",
    "# ###################################"
   ]
  },
  {
   "cell_type": "markdown",
   "metadata": {},
   "source": [
    "Exercise Description:\n",
    "\n",
    "You are given, as the train data, trn_x and trn_y along with their class labels trn_x_class and trn_y_class. The task is to classify the following TEST data.\n",
    "* (a) classify instances in tst_xy, and use the corresponding label file tst_xy_class to calculate the accuracy;\n",
    "* (b) classify instances in tst_xy_126 by assuming a uniform prior over the space of hypotheses, and use the corresponding label file tst_xy_126_class to calculate the accuracy;\n",
    "* (c) classify instances in tst_xy_126 by assuming a prior probability of 0.9 for Class x and 0.1 for Class y, and use the corresponding label file tst_xy_126_class to calculate the accuracy; compare the results with those of (b).\n",
    "\n",
    "To plot Gaussian, you may use PLOT_GAUSSIAN_ELLIPSOID."
   ]
  },
  {
   "cell_type": "code",
   "execution_count": null,
   "metadata": {},
   "outputs": [],
   "source": [
    "# Importing libraries and other packages\n",
    "import numpy as np\n",
    "import pandas as pd\n",
    "import matplotlib.pyplot as plt\n",
    "from scipy.stats import multivariate_normal"
   ]
  },
  {
   "cell_type": "code",
   "execution_count": null,
   "metadata": {},
   "outputs": [],
   "source": [
    "# Train data\n",
    "train_x = np.loadtxt(\"../data/trn_x.txt\")\n",
    "train_x_label = np.loadtxt(\"../data/trn_x_class.txt\")\n",
    "\n",
    "train_y = np.loadtxt(\"../data/trn_y.txt\")\n",
    "train_y_label = np.loadtxt(\"../data/trn_y_class.txt\")\n",
    "\n",
    "# Test data\n",
    "test_x = np.loadtxt(\"../data/tst_x.txt\")\n",
    "test_x_label = np.loadtxt(\"../data/tst_x_class.txt\")\n",
    "\n",
    "test_y = np.loadtxt(\"../data/tst_y.txt\")\n",
    "test_y_label = np.loadtxt(\"../data/tst_y_class.txt\")\n",
    "\n",
    "test_y_126 = np.loadtxt(\"../data/tst_y_126.txt\")\n",
    "test_y_126_label = np.loadtxt(\"../data/tst_y_126_class.txt\")\n",
    "\n",
    "test_xy = np.loadtxt(\"../data/tst_xy.txt\")\n",
    "test_xy_label = np.loadtxt(\"../data/tst_xy_class.txt\")\n",
    "\n",
    "test_xy_126 = np.loadtxt(\"../data/tst_xy_126.txt\")\n",
    "test_xy_126_label = np.loadtxt(\"../data/tst_xy_126_class.txt\")"
   ]
  },
  {
   "cell_type": "markdown",
   "metadata": {},
   "source": [
    "Exercise (a)"
   ]
  },
  {
   "cell_type": "code",
   "execution_count": null,
   "metadata": {},
   "outputs": [],
   "source": [
    "# x statistics\n",
    "train_x_mean = np.mean(train_x,0)\n",
    "train_x_cov = np.cov(train_x, rowvar = False)\n",
    "\n",
    "# y statistics\n",
    "train_y_mean = np.mean(train_y,0)\n",
    "train_y_cov = np.cov(train_y, rowvar = False)\n",
    "\n",
    "# priors\n",
    "prior_x = len(train_x)/(len(train_x)+len(train_y))\n",
    "prior_y = len(train_y)/(len(train_x)+len(train_y))\n",
    "\n",
    "# Print out statistics + prior\n",
    "print(f\"train_x_mean: {train_x_mean}\\ntrain_x_cov: \\n{train_x_cov}\\n\")\n",
    "print(f\"train_y_mean: {train_y_mean}\\ntrain_y_cov: \\n{train_y_cov}\\n\")\n",
    "print(f\"priors: {prior_x, prior_y}\")"
   ]
  },
  {
   "cell_type": "code",
   "execution_count": null,
   "metadata": {},
   "outputs": [],
   "source": [
    "# Defining the likelihood function\n",
    "def likelihood(data, mean, cov):\n",
    "    likelihood_value = multivariate_normal.logpdf(data, mean, cov)\n",
    "    return likelihood_value"
   ]
  },
  {
   "cell_type": "code",
   "execution_count": null,
   "metadata": {},
   "outputs": [],
   "source": [
    "# Define classification function\n",
    "def classification(array1, array2):\n",
    "    class1_count = 0\n",
    "    class2_count = 0\n",
    "    for i in range(max(len(array1), len(array2))):\n",
    "    # Check if the current index is within the length of array1\n",
    "        if i < len(array1):\n",
    "            value1 = array1[i]\n",
    "            if value1 > 0.5:\n",
    "                class1_count += 1\n",
    "            else:\n",
    "                class2_count += 1\n",
    "        # Check if the current index is within the length of array2\n",
    "        if i < len(array2):\n",
    "            value2 = array2[i]\n",
    "            if value2 > 0.5:\n",
    "                class1_count += 1\n",
    "            else:\n",
    "                class2_count += 1\n",
    "                \n",
    "    return class1_count, class2_count"
   ]
  },
  {
   "cell_type": "code",
   "execution_count": null,
   "metadata": {},
   "outputs": [],
   "source": [
    "# Compute likelihood for x, y\n",
    "likelihood_x = likelihood(train_x,train_x_mean,train_x_cov)\n",
    "likelihood_y = likelihood(train_y,train_y_mean,train_y_cov)\n",
    "print(f\"likelihood_x: {likelihood_x}\")\n",
    "print(f\"likelihood_y: {likelihood_y}\")\n",
    "\n",
    "# Compute evidence (marginal likelihood)\n",
    "evidence_x = sum(prior_x * likelihood_x)\n",
    "evidence_y = sum(prior_y * likelihood_y)\n",
    "\n",
    "print(f\"evidence_x: {evidence_x}\")\n",
    "print(f\"evidence_y: {evidence_y}\")\n",
    "\n",
    "# Compute posterior probabilities \n",
    "post_x = (likelihood_x * prior_x) / evidence_x\n",
    "post_y = (likelihood_y * prior_y) / evidence_y\n",
    "print(f\"post_x: {post_x}\")\n",
    "print(f\"post_y: {post_y}\")\n",
    "\n",
    "\n",
    "\n",
    "# Remember that labels for x and y are are 1 and 2 respectively\n",
    "#classification = \n",
    "\n",
    "# Calculate accuracy using labels\n"
   ]
  },
  {
   "cell_type": "markdown",
   "metadata": {},
   "source": [
    "Exercise (b)"
   ]
  },
  {
   "cell_type": "code",
   "execution_count": null,
   "metadata": {},
   "outputs": [],
   "source": [
    "# Load trn_x_class and trn_y_class training class labels\n",
    "trn_x_class = np.loadtxt(\"Data/trn_x_class.txt\")\n",
    "trn_y_class = np.loadtxt(\"Data/trn_y_class.txt\")"
   ]
  },
  {
   "cell_type": "code",
   "execution_count": null,
   "metadata": {},
   "outputs": [],
   "source": [
    "# Compute priors\n",
    "    \n",
    "# Compute means, variances, covariance matrix for multivariate\n",
    "    \n",
    "# Compute likelihood p(x|Ck) for test data\n",
    "    \n",
    "# Compute posterior probabilities or joint probability\n",
    "    \n",
    "# Calculate accuracy using labels"
   ]
  },
  {
   "cell_type": "markdown",
   "metadata": {},
   "source": [
    "Exercise (c)"
   ]
  },
  {
   "cell_type": "code",
   "execution_count": null,
   "metadata": {},
   "outputs": [],
   "source": [
    "# Load trn_x_class and trn_y_class training class labels\n",
    "trn_x_class = np.loadtxt(\"Data/trn_x_class.txt\")\n",
    "trn_y_class = np.loadtxt(\"Data/trn_y_class.txt\")"
   ]
  },
  {
   "cell_type": "code",
   "execution_count": null,
   "metadata": {},
   "outputs": [],
   "source": [
    "# Compute priors\n",
    "    \n",
    "# Compute means, variances, covariance matrix for multivariate\n",
    "    \n",
    "# Compute likelihood p(x|Ck) for test data\n",
    "    \n",
    "# Compute posterior probabilities or joint probability\n",
    "    \n",
    "# Calculate accuracy using labels"
   ]
  }
 ],
 "metadata": {
  "kernelspec": {
   "display_name": ".venv",
   "language": "python",
   "name": "python3"
  },
  "language_info": {
   "codemirror_mode": {
    "name": "ipython",
    "version": 3
   },
   "file_extension": ".py",
   "mimetype": "text/x-python",
   "name": "python",
   "nbconvert_exporter": "python",
   "pygments_lexer": "ipython3",
   "version": "3.11.2"
  },
  "orig_nbformat": 4
 },
 "nbformat": 4,
 "nbformat_minor": 2
}
