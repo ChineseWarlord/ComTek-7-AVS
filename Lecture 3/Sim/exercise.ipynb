{
 "cells": [
  {
   "cell_type": "code",
   "execution_count": 59,
   "metadata": {},
   "outputs": [],
   "source": [
    "# ###################################\n",
    "# Group ID : <741>\n",
    "# Members : <Jon, Vasiliki, Simon>\n",
    "# Date : <xx/09>\n",
    "# Lecture: <3> <Parametric and nonparametric methods> (see moodle)\n",
    "# Dependencies: ipykernel, numpy, pandas, matplotlib\n",
    "# Python version: Latest 3.11.2\n",
    "# Functionality: Short Description. Example: This script trains a MLP for classifying\n",
    "# handwritten digits. It also test the performance on a given data set for various\n",
    "# settings.\n",
    "# ###################################"
   ]
  },
  {
   "cell_type": "markdown",
   "metadata": {},
   "source": [
    "Exercise Description:\n",
    "\n",
    "You are given, as the train data, trn_x and trn_y along with their class labels trn_x_class and trn_y_class. The task is to classify the following TEST data.\n",
    "* (a) classify instances in tst_xy, and use the corresponding label file tst_xy_class to calculate the accuracy;\n",
    "* (b) classify instances in tst_xy_126 by assuming a uniform prior over the space of hypotheses, and use the corresponding label file tst_xy_126_class to calculate the accuracy;\n",
    "* (c) classify instances in tst_xy_126 by assuming a prior probability of 0.9 for Class x and 0.1 for Class y, and use the corresponding label file tst_xy_126_class to calculate the accuracy; compare the results with those of (b).\n",
    "\n",
    "To plot Gaussian, you may use PLOT_GAUSSIAN_ELLIPSOID."
   ]
  },
  {
   "cell_type": "code",
   "execution_count": 60,
   "metadata": {},
   "outputs": [],
   "source": [
    "# Importing libraries and other packages\n",
    "import numpy as np\n",
    "import pandas as pd\n",
    "import matplotlib.pyplot as plt\n",
    "from scipy.stats import multivariate_normal"
   ]
  },
  {
   "cell_type": "code",
   "execution_count": 61,
   "metadata": {},
   "outputs": [],
   "source": [
    "# Train data\n",
    "train_x = np.loadtxt(\"../data/trn_x.txt\")\n",
    "train_x_label = np.loadtxt(\"../data/trn_x_class.txt\")\n",
    "\n",
    "train_y = np.loadtxt(\"../data/trn_y.txt\")\n",
    "train_y_label = np.loadtxt(\"../data/trn_y_class.txt\")\n",
    "\n",
    "# Test data\n",
    "test_x = np.loadtxt(\"../data/tst_x.txt\")\n",
    "test_x_label = np.loadtxt(\"../data/tst_x_class.txt\")\n",
    "\n",
    "test_y = np.loadtxt(\"../data/tst_y.txt\")\n",
    "test_y_label = np.loadtxt(\"../data/tst_y_class.txt\")\n",
    "\n",
    "test_y_126 = np.loadtxt(\"../data/tst_y_126.txt\")\n",
    "test_y_126_label = np.loadtxt(\"../data/tst_y_126_class.txt\")\n",
    "\n",
    "test_xy = np.loadtxt(\"../data/tst_xy.txt\")\n",
    "test_xy_label = np.loadtxt(\"../data/tst_xy_class.txt\")\n",
    "\n",
    "test_xy_126 = np.loadtxt(\"../data/tst_xy_126.txt\")\n",
    "test_xy_126_label = np.loadtxt(\"../data/tst_xy_126_class.txt\")"
   ]
  },
  {
   "cell_type": "markdown",
   "metadata": {},
   "source": [
    "Exercise (a)"
   ]
  },
  {
   "cell_type": "code",
   "execution_count": 62,
   "metadata": {},
   "outputs": [
    {
     "name": "stdout",
     "output_type": "stream",
     "text": [
      "train_x_mean: [-1.61931577  0.22651021]\n",
      "train_x_cov: \n",
      "[[ 2.67373236 -0.00766618]\n",
      " [-0.00766618  0.07231472]]\n",
      "\n",
      "train_y_mean: [ 0.45262897 -0.63788186]\n",
      "train_y_cov: \n",
      "[[ 0.32252417 -0.02634358]\n",
      " [-0.02634358  0.52652025]]\n",
      "\n",
      "priors: (0.5543040368330182, 0.44569596316698185)\n"
     ]
    }
   ],
   "source": [
    "# x statistics\n",
    "train_x_mean = np.mean(train_x,0)\n",
    "train_x_cov = np.cov(train_x, rowvar = False)\n",
    "\n",
    "# y statistics\n",
    "train_y_mean = np.mean(train_y,0)\n",
    "train_y_cov = np.cov(train_y, rowvar = False)\n",
    "\n",
    "# priors\n",
    "prior_x = len(train_x)/(len(train_x)+len(train_y))\n",
    "prior_y = len(train_y)/(len(train_x)+len(train_y))\n",
    "\n",
    "# Print out statistics + prior\n",
    "print(f\"train_x_mean: {train_x_mean}\\ntrain_x_cov: \\n{train_x_cov}\\n\")\n",
    "print(f\"train_y_mean: {train_y_mean}\\ntrain_y_cov: \\n{train_y_cov}\\n\")\n",
    "print(f\"priors: {prior_x, prior_y}\")"
   ]
  },
  {
   "cell_type": "code",
   "execution_count": 67,
   "metadata": {},
   "outputs": [],
   "source": [
    "# Defining the likelihood function\n",
    "def likelihood(data, mean, cov):\n",
    "    likelihood_value = multivariate_normal.logpdf(data, mean, cov)\n",
    "    return likelihood_value"
   ]
  },
  {
   "cell_type": "code",
   "execution_count": 64,
   "metadata": {},
   "outputs": [],
   "source": [
    "# Define classification function\n",
    "def classification(array1, array2):\n",
    "    class1_count = 0\n",
    "    class2_count = 0\n",
    "    for i in range(max(len(array1), len(array2))):\n",
    "    # Check if the current index is within the length of array1\n",
    "        if i < len(array1):\n",
    "            value1 = array1[i]\n",
    "            if value1 > 0.5:\n",
    "                class1_count += 1\n",
    "            else:\n",
    "                class2_count += 1\n",
    "        # Check if the current index is within the length of array2\n",
    "        if i < len(array2):\n",
    "            value2 = array2[i]\n",
    "            if value2 > 0.5:\n",
    "                class1_count += 1\n",
    "            else:\n",
    "                class2_count += 1\n",
    "                \n",
    "    return class1_count, class2_count"
   ]
  },
  {
   "cell_type": "code",
   "execution_count": 68,
   "metadata": {},
   "outputs": [
    {
     "name": "stdout",
     "output_type": "stream",
     "text": [
      "likelihood_x: [-1.13030368 -1.37326601 -1.02581948 ... -1.06310421 -1.62327972\n",
      " -3.50758909]\n",
      "likelihood_y: [-1.88639142 -0.95486496 -1.36140165 ... -1.20739227 -2.29195071\n",
      " -1.44071203]\n",
      "evidence_x: -7533.845065781047\n",
      "evidence_y: -4709.312544026431\n",
      "post_x: [8.31623010e-05 1.01038299e-04 7.54748572e-05 ... 7.82180878e-05\n",
      " 1.19433104e-04 2.58071512e-04]\n",
      "post_y: [1.78530737e-04 9.03697630e-05 1.28844967e-04 ... 1.14269302e-04\n",
      " 2.16913439e-04 1.36351013e-04]\n"
     ]
    }
   ],
   "source": [
    "# Compute likelihood for x, y\n",
    "likelihood_x = likelihood(train_x,train_x_mean,train_x_cov)\n",
    "likelihood_y = likelihood(train_y,train_y_mean,train_y_cov)\n",
    "print(f\"likelihood_x: {likelihood_x}\")\n",
    "print(f\"likelihood_y: {likelihood_y}\")\n",
    "\n",
    "# Compute evidence (marginal likelihood)\n",
    "evidence_x = sum(prior_x * likelihood_x)\n",
    "evidence_y = sum(prior_y * likelihood_y)\n",
    "\n",
    "print(f\"evidence_x: {evidence_x}\")\n",
    "print(f\"evidence_y: {evidence_y}\")\n",
    "\n",
    "# Compute posterior probabilities \n",
    "post_x = (likelihood_x * prior_x) / evidence_x\n",
    "post_y = (likelihood_y * prior_y) / evidence_y\n",
    "print(f\"post_x: {post_x}\")\n",
    "print(f\"post_y: {post_y}\")\n",
    "\n",
    "\n",
    "\n",
    "# Remember that labels for x and y are are 1 and 2 respectively\n",
    "#classification = \n",
    "\n",
    "# Calculate accuracy using labels\n"
   ]
  },
  {
   "cell_type": "markdown",
   "metadata": {},
   "source": [
    "Exercise (b)"
   ]
  },
  {
   "cell_type": "code",
   "execution_count": 66,
   "metadata": {},
   "outputs": [
    {
     "ename": "FileNotFoundError",
     "evalue": "Data/trn_x_class.txt not found.",
     "output_type": "error",
     "traceback": [
      "\u001b[1;31m---------------------------------------------------------------------------\u001b[0m",
      "\u001b[1;31mFileNotFoundError\u001b[0m                         Traceback (most recent call last)",
      "\u001b[1;32mg:\\Nextcloud\\7th Semester Project\\ComTek-7-AVS\\Lecture 3\\Sim\\exercise.ipynb Cell 11\u001b[0m line \u001b[0;36m2\n\u001b[0;32m      <a href='vscode-notebook-cell:/g%3A/Nextcloud/7th%20Semester%20Project/ComTek-7-AVS/Lecture%203/Sim/exercise.ipynb#X11sZmlsZQ%3D%3D?line=0'>1</a>\u001b[0m \u001b[39m# Load trn_x_class and trn_y_class training class labels\u001b[39;00m\n\u001b[1;32m----> <a href='vscode-notebook-cell:/g%3A/Nextcloud/7th%20Semester%20Project/ComTek-7-AVS/Lecture%203/Sim/exercise.ipynb#X11sZmlsZQ%3D%3D?line=1'>2</a>\u001b[0m trn_x_class \u001b[39m=\u001b[39m np\u001b[39m.\u001b[39;49mloadtxt(\u001b[39m\"\u001b[39;49m\u001b[39mData/trn_x_class.txt\u001b[39;49m\u001b[39m\"\u001b[39;49m)\n\u001b[0;32m      <a href='vscode-notebook-cell:/g%3A/Nextcloud/7th%20Semester%20Project/ComTek-7-AVS/Lecture%203/Sim/exercise.ipynb#X11sZmlsZQ%3D%3D?line=2'>3</a>\u001b[0m trn_y_class \u001b[39m=\u001b[39m np\u001b[39m.\u001b[39mloadtxt(\u001b[39m\"\u001b[39m\u001b[39mData/trn_y_class.txt\u001b[39m\u001b[39m\"\u001b[39m)\n",
      "File \u001b[1;32mg:\\Nextcloud\\7th Semester Project\\ComTek-7-AVS\\.venv\\Lib\\site-packages\\numpy\\lib\\npyio.py:1373\u001b[0m, in \u001b[0;36mloadtxt\u001b[1;34m(fname, dtype, comments, delimiter, converters, skiprows, usecols, unpack, ndmin, encoding, max_rows, quotechar, like)\u001b[0m\n\u001b[0;32m   1370\u001b[0m \u001b[39mif\u001b[39;00m \u001b[39misinstance\u001b[39m(delimiter, \u001b[39mbytes\u001b[39m):\n\u001b[0;32m   1371\u001b[0m     delimiter \u001b[39m=\u001b[39m delimiter\u001b[39m.\u001b[39mdecode(\u001b[39m'\u001b[39m\u001b[39mlatin1\u001b[39m\u001b[39m'\u001b[39m)\n\u001b[1;32m-> 1373\u001b[0m arr \u001b[39m=\u001b[39m _read(fname, dtype\u001b[39m=\u001b[39;49mdtype, comment\u001b[39m=\u001b[39;49mcomment, delimiter\u001b[39m=\u001b[39;49mdelimiter,\n\u001b[0;32m   1374\u001b[0m             converters\u001b[39m=\u001b[39;49mconverters, skiplines\u001b[39m=\u001b[39;49mskiprows, usecols\u001b[39m=\u001b[39;49musecols,\n\u001b[0;32m   1375\u001b[0m             unpack\u001b[39m=\u001b[39;49munpack, ndmin\u001b[39m=\u001b[39;49mndmin, encoding\u001b[39m=\u001b[39;49mencoding,\n\u001b[0;32m   1376\u001b[0m             max_rows\u001b[39m=\u001b[39;49mmax_rows, quote\u001b[39m=\u001b[39;49mquotechar)\n\u001b[0;32m   1378\u001b[0m \u001b[39mreturn\u001b[39;00m arr\n",
      "File \u001b[1;32mg:\\Nextcloud\\7th Semester Project\\ComTek-7-AVS\\.venv\\Lib\\site-packages\\numpy\\lib\\npyio.py:992\u001b[0m, in \u001b[0;36m_read\u001b[1;34m(fname, delimiter, comment, quote, imaginary_unit, usecols, skiplines, max_rows, converters, ndmin, unpack, dtype, encoding)\u001b[0m\n\u001b[0;32m    990\u001b[0m     fname \u001b[39m=\u001b[39m os\u001b[39m.\u001b[39mfspath(fname)\n\u001b[0;32m    991\u001b[0m \u001b[39mif\u001b[39;00m \u001b[39misinstance\u001b[39m(fname, \u001b[39mstr\u001b[39m):\n\u001b[1;32m--> 992\u001b[0m     fh \u001b[39m=\u001b[39m np\u001b[39m.\u001b[39;49mlib\u001b[39m.\u001b[39;49m_datasource\u001b[39m.\u001b[39;49mopen(fname, \u001b[39m'\u001b[39;49m\u001b[39mrt\u001b[39;49m\u001b[39m'\u001b[39;49m, encoding\u001b[39m=\u001b[39;49mencoding)\n\u001b[0;32m    993\u001b[0m     \u001b[39mif\u001b[39;00m encoding \u001b[39mis\u001b[39;00m \u001b[39mNone\u001b[39;00m:\n\u001b[0;32m    994\u001b[0m         encoding \u001b[39m=\u001b[39m \u001b[39mgetattr\u001b[39m(fh, \u001b[39m'\u001b[39m\u001b[39mencoding\u001b[39m\u001b[39m'\u001b[39m, \u001b[39m'\u001b[39m\u001b[39mlatin1\u001b[39m\u001b[39m'\u001b[39m)\n",
      "File \u001b[1;32mg:\\Nextcloud\\7th Semester Project\\ComTek-7-AVS\\.venv\\Lib\\site-packages\\numpy\\lib\\_datasource.py:193\u001b[0m, in \u001b[0;36mopen\u001b[1;34m(path, mode, destpath, encoding, newline)\u001b[0m\n\u001b[0;32m    156\u001b[0m \u001b[39m\u001b[39m\u001b[39m\"\"\"\u001b[39;00m\n\u001b[0;32m    157\u001b[0m \u001b[39mOpen `path` with `mode` and return the file object.\u001b[39;00m\n\u001b[0;32m    158\u001b[0m \n\u001b[1;32m   (...)\u001b[0m\n\u001b[0;32m    189\u001b[0m \n\u001b[0;32m    190\u001b[0m \u001b[39m\"\"\"\u001b[39;00m\n\u001b[0;32m    192\u001b[0m ds \u001b[39m=\u001b[39m DataSource(destpath)\n\u001b[1;32m--> 193\u001b[0m \u001b[39mreturn\u001b[39;00m ds\u001b[39m.\u001b[39;49mopen(path, mode, encoding\u001b[39m=\u001b[39;49mencoding, newline\u001b[39m=\u001b[39;49mnewline)\n",
      "File \u001b[1;32mg:\\Nextcloud\\7th Semester Project\\ComTek-7-AVS\\.venv\\Lib\\site-packages\\numpy\\lib\\_datasource.py:533\u001b[0m, in \u001b[0;36mDataSource.open\u001b[1;34m(self, path, mode, encoding, newline)\u001b[0m\n\u001b[0;32m    530\u001b[0m     \u001b[39mreturn\u001b[39;00m _file_openers[ext](found, mode\u001b[39m=\u001b[39mmode,\n\u001b[0;32m    531\u001b[0m                               encoding\u001b[39m=\u001b[39mencoding, newline\u001b[39m=\u001b[39mnewline)\n\u001b[0;32m    532\u001b[0m \u001b[39melse\u001b[39;00m:\n\u001b[1;32m--> 533\u001b[0m     \u001b[39mraise\u001b[39;00m \u001b[39mFileNotFoundError\u001b[39;00m(\u001b[39mf\u001b[39m\u001b[39m\"\u001b[39m\u001b[39m{\u001b[39;00mpath\u001b[39m}\u001b[39;00m\u001b[39m not found.\u001b[39m\u001b[39m\"\u001b[39m)\n",
      "\u001b[1;31mFileNotFoundError\u001b[0m: Data/trn_x_class.txt not found."
     ]
    }
   ],
   "source": [
    "# Load trn_x_class and trn_y_class training class labels\n",
    "trn_x_class = np.loadtxt(\"Data/trn_x_class.txt\")\n",
    "trn_y_class = np.loadtxt(\"Data/trn_y_class.txt\")"
   ]
  },
  {
   "cell_type": "code",
   "execution_count": null,
   "metadata": {},
   "outputs": [],
   "source": [
    "# Compute priors\n",
    "    \n",
    "# Compute means, variances, covariance matrix for multivariate\n",
    "    \n",
    "# Compute likelihood p(x|Ck) for test data\n",
    "    \n",
    "# Compute posterior probabilities or joint probability\n",
    "    \n",
    "# Calculate accuracy using labels"
   ]
  },
  {
   "cell_type": "markdown",
   "metadata": {},
   "source": [
    "Exercise (c)"
   ]
  },
  {
   "cell_type": "code",
   "execution_count": null,
   "metadata": {},
   "outputs": [],
   "source": [
    "# Load trn_x_class and trn_y_class training class labels\n",
    "trn_x_class = np.loadtxt(\"Data/trn_x_class.txt\")\n",
    "trn_y_class = np.loadtxt(\"Data/trn_y_class.txt\")"
   ]
  },
  {
   "cell_type": "code",
   "execution_count": null,
   "metadata": {},
   "outputs": [],
   "source": [
    "# Compute priors\n",
    "    \n",
    "# Compute means, variances, covariance matrix for multivariate\n",
    "    \n",
    "# Compute likelihood p(x|Ck) for test data\n",
    "    \n",
    "# Compute posterior probabilities or joint probability\n",
    "    \n",
    "# Calculate accuracy using labels"
   ]
  }
 ],
 "metadata": {
  "kernelspec": {
   "display_name": ".venv",
   "language": "python",
   "name": "python3"
  },
  "language_info": {
   "codemirror_mode": {
    "name": "ipython",
    "version": 3
   },
   "file_extension": ".py",
   "mimetype": "text/x-python",
   "name": "python",
   "nbconvert_exporter": "python",
   "pygments_lexer": "ipython3",
   "version": "3.11.2"
  },
  "orig_nbformat": 4
 },
 "nbformat": 4,
 "nbformat_minor": 2
}
